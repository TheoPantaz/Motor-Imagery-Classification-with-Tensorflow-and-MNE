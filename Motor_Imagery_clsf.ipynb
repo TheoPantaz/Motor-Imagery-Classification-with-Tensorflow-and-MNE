{
  "nbformat": 4,
  "nbformat_minor": 0,
  "metadata": {
    "celltoolbar": "Raw Cell Format",
    "kernelspec": {
      "display_name": "Python 3",
      "language": "python",
      "name": "python3"
    },
    "language_info": {
      "codemirror_mode": {
        "name": "ipython",
        "version": 3
      },
      "file_extension": ".py",
      "mimetype": "text/x-python",
      "name": "python",
      "nbconvert_exporter": "python",
      "pygments_lexer": "ipython3",
      "version": "3.6.7"
    },
    "colab": {
      "name": "Copy of bci_with_mne_tensorflow.ipynb",
      "provenance": [],
      "collapsed_sections": [],
      "include_colab_link": true
    },
    "accelerator": "GPU"
  },
  "cells": [
    {
      "cell_type": "markdown",
      "metadata": {
        "id": "view-in-github",
        "colab_type": "text"
      },
      "source": [
        "<a href=\"https://colab.research.google.com/github/TheoPantaz/Motor-Imagery-Classification-with-Tensorflow-and-MNE/blob/master/Motor_Imagery_clsf.ipynb\" target=\"_parent\"><img src=\"https://colab.research.google.com/assets/colab-badge.svg\" alt=\"Open In Colab\"/></a>"
      ]
    },
    {
      "cell_type": "markdown",
      "metadata": {
        "id": "HIJ3nD-Sjv5U",
        "colab_type": "text"
      },
      "source": [
        "Install mne"
      ]
    },
    {
      "cell_type": "code",
      "metadata": {
        "id": "HnZN_3LKjv5V",
        "colab_type": "code",
        "colab": {
          "base_uri": "https://localhost:8080/",
          "height": 136
        },
        "outputId": "dc5cf87b-40f9-4286-a08f-e317c0d027bc"
      },
      "source": [
        "!pip install mne\n"
      ],
      "execution_count": 2,
      "outputs": [
        {
          "output_type": "stream",
          "text": [
            "Collecting mne\n",
            "\u001b[?25l  Downloading https://files.pythonhosted.org/packages/c9/0d/ba12e84feae362d9808e51aa4e3d96a148db9a047e13e51bb070016fa1ab/mne-0.21.0-py3-none-any.whl (6.8MB)\n",
            "\u001b[K     |████████████████████████████████| 6.8MB 6.1MB/s \n",
            "\u001b[?25hRequirement already satisfied: scipy>=0.17.1 in /usr/local/lib/python3.6/dist-packages (from mne) (1.4.1)\n",
            "Requirement already satisfied: numpy>=1.11.3 in /usr/local/lib/python3.6/dist-packages (from mne) (1.18.5)\n",
            "Installing collected packages: mne\n",
            "Successfully installed mne-0.21.0\n"
          ],
          "name": "stdout"
        }
      ]
    },
    {
      "cell_type": "markdown",
      "metadata": {
        "id": "CRdUZXKjHIIG",
        "colab_type": "text"
      },
      "source": [
        "Import libraries"
      ]
    },
    {
      "cell_type": "code",
      "metadata": {
        "scrolled": true,
        "tags": [],
        "id": "lEZoh8ppjv5Z",
        "colab_type": "code",
        "colab": {}
      },
      "source": [
        "import scipy.io as sio\n",
        "import sklearn.preprocessing as skpr\n",
        "import mne\n",
        "import tensorflow as tf\n",
        "import numpy as np\n",
        "import matplotlib.pyplot as plt\n"
      ],
      "execution_count": 4,
      "outputs": []
    },
    {
      "cell_type": "markdown",
      "metadata": {
        "id": "xNpT0inZjv5c",
        "colab_type": "text"
      },
      "source": [
        "Import data\n"
      ]
    },
    {
      "cell_type": "code",
      "metadata": {
        "id": "uYxbY5sujv5d",
        "colab_type": "code",
        "colab": {
          "base_uri": "https://localhost:8080/",
          "height": 34
        },
        "outputId": "f5dc9ed5-8ef5-4196-9509-2e0d0ad5e0da"
      },
      "source": [
        "from google.colab import drive\n",
        "drive.mount('/content/drive')\n",
        "\n",
        "def import_from_mat(filename):\n",
        "    dataset = sio.loadmat(filename, chars_as_strings = True)\n",
        "    return dataset['EEG'], dataset['LABELS'].flatten(), dataset['Fs'][0][0], dataset['events'].T\n",
        "\n",
        "filename = '/content/drive/My Drive/PANTAZ_s2'\n",
        "EEG, LABELS, Fs, events = import_from_mat(filename)"
      ],
      "execution_count": 5,
      "outputs": [
        {
          "output_type": "stream",
          "text": [
            "Mounted at /content/drive\n"
          ],
          "name": "stdout"
        }
      ]
    },
    {
      "cell_type": "markdown",
      "metadata": {
        "id": "_2A3Z1vrjv5i",
        "colab_type": "text"
      },
      "source": [
        "Normalize data"
      ]
    },
    {
      "cell_type": "code",
      "metadata": {
        "id": "M9_GB6Yyjv5m",
        "colab_type": "code",
        "colab": {}
      },
      "source": [
        "def standardize(data):\n",
        "    scaler = skpr.StandardScaler()\n",
        "    return scaler.fit_transform(data)\n",
        "\n",
        "EEG = standardize(EEG)"
      ],
      "execution_count": 6,
      "outputs": []
    },
    {
      "cell_type": "markdown",
      "metadata": {
        "raw_mimetype": "text/markdown",
        "id": "J-OCmQOBjv5q",
        "colab_type": "text"
      },
      "source": [
        "Create mne object"
      ]
    },
    {
      "cell_type": "code",
      "metadata": {
        "id": "pD70Wbf7jv5r",
        "colab_type": "code",
        "colab": {
          "base_uri": "https://localhost:8080/",
          "height": 68
        },
        "outputId": "99638696-1d55-4a6a-b661-4db2aa0d3953"
      },
      "source": [
        "channel_names = ['c1', 'c2', 'c3', 'c4', 'cp1', 'cp2', 'cp3', 'cp4']\n",
        "channel_type = 'eeg'\n",
        "\n",
        "def create_mne_object(EEG, channel_names, channel_type):\n",
        "    info = mne.create_info(channel_names, Fs, ch_types = channel_type)\n",
        "    raw = mne.io.RawArray(EEG.T, info)\n",
        "    return raw\n",
        "\n",
        "raw = create_mne_object(EEG, channel_names, channel_type)"
      ],
      "execution_count": 7,
      "outputs": [
        {
          "output_type": "stream",
          "text": [
            "Creating RawArray with float64 data, n_channels=8, n_times=400000\n",
            "    Range : 0 ... 399999 =      0.000 ...  1599.996 secs\n",
            "Ready.\n"
          ],
          "name": "stdout"
        }
      ]
    },
    {
      "cell_type": "markdown",
      "metadata": {
        "id": "kRC4MEGAjv5u",
        "colab_type": "text"
      },
      "source": [
        "filtering"
      ]
    },
    {
      "cell_type": "code",
      "metadata": {
        "id": "PJdFfRkrjv5v",
        "colab_type": "code",
        "colab": {
          "base_uri": "https://localhost:8080/",
          "height": 442
        },
        "outputId": "a6e4f1dc-9e5f-4a6e-eb64-69ac1602f77b"
      },
      "source": [
        "def filtering(raw, low_freq, high_freq):\n",
        "    # Notch filtering\n",
        "    freqs = (50, 100)\n",
        "    raw = raw.notch_filter(freqs = freqs)\n",
        "\n",
        "    # Apply band-pass filter\n",
        "    raw.filter(low_freq, high_freq, fir_design = 'firwin', skip_by_annotation = 'edge')\n",
        "    return raw\n",
        "    \n",
        "low_freq = 7.\n",
        "high_freq = 30.\n",
        "filtered = filtering(raw, low_freq, high_freq)"
      ],
      "execution_count": 8,
      "outputs": [
        {
          "output_type": "stream",
          "text": [
            "Setting up band-stop filter\n",
            "\n",
            "FIR filter parameters\n",
            "---------------------\n",
            "Designing a one-pass, zero-phase, non-causal bandstop filter:\n",
            "- Windowed time-domain design (firwin) method\n",
            "- Hamming window with 0.0194 passband ripple and 53 dB stopband attenuation\n",
            "- Lower transition bandwidth: 0.50 Hz\n",
            "- Upper transition bandwidth: 0.50 Hz\n",
            "- Filter length: 1651 samples (6.604 sec)\n",
            "\n",
            "Filtering raw data in 1 contiguous segment\n",
            "Setting up band-pass filter from 7 - 30 Hz\n",
            "\n",
            "FIR filter parameters\n",
            "---------------------\n",
            "Designing a one-pass, zero-phase, non-causal bandpass filter:\n",
            "- Windowed time-domain design (firwin) method\n",
            "- Hamming window with 0.0194 passband ripple and 53 dB stopband attenuation\n",
            "- Lower passband edge: 7.00\n",
            "- Lower transition bandwidth: 2.00 Hz (-6 dB cutoff frequency: 6.00 Hz)\n",
            "- Upper passband edge: 30.00 Hz\n",
            "- Upper transition bandwidth: 7.50 Hz (-6 dB cutoff frequency: 33.75 Hz)\n",
            "- Filter length: 413 samples (1.652 sec)\n",
            "\n"
          ],
          "name": "stdout"
        }
      ]
    },
    {
      "cell_type": "markdown",
      "metadata": {
        "id": "BbJIlmH_jv54",
        "colab_type": "text"
      },
      "source": [
        "Epoching the data"
      ]
    },
    {
      "cell_type": "code",
      "metadata": {
        "id": "SqdF78yBjv54",
        "colab_type": "code",
        "colab": {
          "base_uri": "https://localhost:8080/",
          "height": 136
        },
        "outputId": "a781a9d3-5a8c-43ad-8659-86a27d7f1160"
      },
      "source": [
        "def Epoch_Setup(events, IM_dur, step, last_start_of_epoch): \n",
        "  IM_dur = int(IM_dur * Fs)\n",
        "  step = int(step * IM_dur)\n",
        "  last_start_of_epoch = int(last_start_of_epoch * IM_dur)\n",
        "  steps_sum = int(last_start_of_epoch / step)\n",
        "  new_events = [[],[],[]]\n",
        "\n",
        "  for index in events:\n",
        "    new_events[0].extend(np.arange(index[0], index[0] + last_start_of_epoch, step))\n",
        "    new_events[1].extend([0] * steps_sum) \n",
        "    new_events[2].extend([index[-1]] * steps_sum) \n",
        "  new_events = np.array(new_events).T\n",
        "  return new_events\n",
        "\n",
        "def Epochs(data, events, tmin, tmax):\n",
        "  epochs = mne.Epochs(data, events=events, tmin=tmin, tmax=tmax, preload=True, baseline=None, proj=True)\n",
        "  epoched_data = epochs.get_data()\n",
        "  labels = epochs.events[:, -1] - 1\n",
        "  return epoched_data, labels\n",
        "\n",
        "IM_dur = 4 \n",
        "step = 1/40\n",
        "last_start_of_epoch = 0.5\n",
        "\n",
        "tmix = -1\n",
        "tmax = 2\n",
        "\n",
        "new_events = Epoch_Setup(events, IM_dur, step, last_start_of_epoch)\n",
        "epoched_data, labels = Epochs(filtered, new_events, tmix, tmax)"
      ],
      "execution_count": 9,
      "outputs": [
        {
          "output_type": "stream",
          "text": [
            "Not setting metadata\n",
            "Not setting metadata\n",
            "4000 matching events found\n",
            "No baseline correction applied\n",
            "0 projection items activated\n",
            "Loading data for 4000 events and 751 original time points ...\n",
            "0 bad epochs dropped\n"
          ],
          "name": "stdout"
        }
      ]
    },
    {
      "cell_type": "markdown",
      "metadata": {
        "id": "lpUY1255PSal",
        "colab_type": "text"
      },
      "source": [
        "Split training and testing data"
      ]
    },
    {
      "cell_type": "code",
      "metadata": {
        "id": "Uhyqf_1_PYY2",
        "colab_type": "code",
        "colab": {}
      },
      "source": [
        "def data_split(data, labels, split):\n",
        "  split = int(split * data.shape[0])\n",
        "  X_train = epoched_data[:split]\n",
        "  X_test = epoched_data[split:]\n",
        "  Y_train = labels[:split]\n",
        "  Y_test = labels[split:]\n",
        "  return X_train, X_test, Y_train, Y_test\n",
        "\n",
        "split = 0.5\n",
        "X_train, X_test, Y_train, Y_test = data_split(epoched_data, labels, split)"
      ],
      "execution_count": 10,
      "outputs": []
    },
    {
      "cell_type": "markdown",
      "metadata": {
        "id": "f4bPEv2tjv51",
        "colab_type": "text"
      },
      "source": [
        "CSP fit and transform function"
      ]
    },
    {
      "cell_type": "code",
      "metadata": {
        "id": "SLB2-4o7jv51",
        "colab_type": "code",
        "colab": {
          "base_uri": "https://localhost:8080/",
          "height": 255
        },
        "outputId": "1a608a20-6660-4860-af05-15a4ba78423c"
      },
      "source": [
        "def csp_fit_transform(X_train, labels, X_test):\n",
        "  csp = mne.decoding.CSP(n_components=8, reg='oas', log = True, norm_trace=True)\n",
        "  X_train = csp.fit_transform(X_train, labels)\n",
        "  X_test = csp.transform(X_test)\n",
        "  return (X_train, X_test)\n",
        "\n",
        "X_train, X_test = csp_fit_transform(X_train, Y_train, X_test)\n"
      ],
      "execution_count": 11,
      "outputs": [
        {
          "output_type": "stream",
          "text": [
            "Computing rank from data with rank=None\n",
            "    Using tolerance 0.044 (2.2e-16 eps * 8 dim * 2.5e+13  max singular value)\n",
            "    Estimated rank (mag): 8\n",
            "    MAG: rank 8 computed from 8 data channels with 0 projectors\n",
            "Reducing data rank from 8 -> 8\n",
            "Estimating covariance using OAS\n",
            "Done.\n",
            "Computing rank from data with rank=None\n",
            "    Using tolerance 0.035 (2.2e-16 eps * 8 dim * 2e+13  max singular value)\n",
            "    Estimated rank (mag): 8\n",
            "    MAG: rank 8 computed from 8 data channels with 0 projectors\n",
            "Reducing data rank from 8 -> 8\n",
            "Estimating covariance using OAS\n",
            "Done.\n"
          ],
          "name": "stdout"
        }
      ]
    },
    {
      "cell_type": "markdown",
      "metadata": {
        "id": "zgjbH_kIjv57",
        "colab_type": "text"
      },
      "source": [
        "Create tensorflow model"
      ]
    },
    {
      "cell_type": "code",
      "metadata": {
        "id": "Bq3p6F5ljv58",
        "colab_type": "code",
        "colab": {
          "base_uri": "https://localhost:8080/",
          "height": 357
        },
        "outputId": "dd4825f4-50be-4310-f540-6d0e735d6be0"
      },
      "source": [
        "#compare tensorflow and sklearn pipelines, check out idea for sklearn pipeline and tensorflow model inside\n",
        "\n",
        "model = tf.keras.Sequential([\n",
        "    tf.keras.layers.LSTM(128,  input_shape = [20,8], return_sequences = True),\n",
        "    tf.keras.layers.LSTM(256),\n",
        "    tf.keras.layers.Dropout(0.2),\n",
        "    tf.keras.layers.Dense(64, activation = 'relu'),\n",
        "    tf.keras.layers.Dense(64, activation = 'relu'),\n",
        "    tf.keras.layers.Dense(1, activation = 'sigmoid')        \n",
        "])\n",
        "model.compile(loss='binary_crossentropy',optimizer=tf.keras.optimizers.Adam(lr = 0.0001),metrics=['accuracy'])\n",
        "model.summary()\n"
      ],
      "execution_count": 12,
      "outputs": [
        {
          "output_type": "stream",
          "text": [
            "Model: \"sequential\"\n",
            "_________________________________________________________________\n",
            "Layer (type)                 Output Shape              Param #   \n",
            "=================================================================\n",
            "lstm (LSTM)                  (None, 20, 128)           70144     \n",
            "_________________________________________________________________\n",
            "lstm_1 (LSTM)                (None, 256)               394240    \n",
            "_________________________________________________________________\n",
            "dropout (Dropout)            (None, 256)               0         \n",
            "_________________________________________________________________\n",
            "dense (Dense)                (None, 64)                16448     \n",
            "_________________________________________________________________\n",
            "dense_1 (Dense)              (None, 64)                4160      \n",
            "_________________________________________________________________\n",
            "dense_2 (Dense)              (None, 1)                 65        \n",
            "=================================================================\n",
            "Total params: 485,057\n",
            "Trainable params: 485,057\n",
            "Non-trainable params: 0\n",
            "_________________________________________________________________\n"
          ],
          "name": "stdout"
        }
      ]
    },
    {
      "cell_type": "markdown",
      "metadata": {
        "id": "6UHM0hJoNOY3",
        "colab_type": "text"
      },
      "source": [
        "Data reshape for Tensorflow model"
      ]
    },
    {
      "cell_type": "code",
      "metadata": {
        "id": "B7EuIgpDjv5-",
        "colab_type": "code",
        "colab": {}
      },
      "source": [
        "def reshape_data(X_train, X_test, labels, reshape_factor):\n",
        "  X_train = np.reshape(X_train, (int(X_train.shape[0]/reshape_factor),reshape_factor,8))\n",
        "  X_test = np.reshape(X_test, (int(X_test.shape[0]/reshape_factor),reshape_factor,8))\n",
        "  Y_train = LABELS[:X_train.shape[0]] - 1\n",
        "  Y_test = LABELS[X_train.shape[0]:] - 1\n",
        "  return X_train, X_test, Y_train, Y_test\n",
        "\n",
        "reshape_factor = 20\n",
        "X_train, X_test, Y_train, Y_test = reshape_data(X_train, X_test, labels, reshape_factor)  "
      ],
      "execution_count": 13,
      "outputs": []
    },
    {
      "cell_type": "markdown",
      "metadata": {
        "id": "QMYPMRkrYZaP",
        "colab_type": "text"
      },
      "source": [
        "Model fit"
      ]
    },
    {
      "cell_type": "code",
      "metadata": {
        "id": "s0Gbf_CYYb_4",
        "colab_type": "code",
        "colab": {
          "base_uri": "https://localhost:8080/",
          "height": 1000
        },
        "outputId": "c66c03d7-3b25-4957-afdb-ba43eae16114"
      },
      "source": [
        "history = model.fit(X_train, Y_train, epochs= 100, batch_size = 4, validation_data=(X_test, Y_test), verbose=1)"
      ],
      "execution_count": 14,
      "outputs": [
        {
          "output_type": "stream",
          "text": [
            "Epoch 1/100\n",
            "25/25 [==============================] - 1s 41ms/step - loss: 0.6960 - accuracy: 0.5000 - val_loss: 0.6785 - val_accuracy: 0.6200\n",
            "Epoch 2/100\n",
            "25/25 [==============================] - 0s 9ms/step - loss: 0.6656 - accuracy: 0.6700 - val_loss: 0.6432 - val_accuracy: 0.7200\n",
            "Epoch 3/100\n",
            "25/25 [==============================] - 0s 9ms/step - loss: 0.5931 - accuracy: 0.8600 - val_loss: 0.5353 - val_accuracy: 0.8100\n",
            "Epoch 4/100\n",
            "25/25 [==============================] - 0s 8ms/step - loss: 0.3876 - accuracy: 0.9100 - val_loss: 0.4113 - val_accuracy: 0.8000\n",
            "Epoch 5/100\n",
            "25/25 [==============================] - 0s 9ms/step - loss: 0.3017 - accuracy: 0.8900 - val_loss: 0.3418 - val_accuracy: 0.8100\n",
            "Epoch 6/100\n",
            "25/25 [==============================] - 0s 8ms/step - loss: 0.4115 - accuracy: 0.8100 - val_loss: 0.4090 - val_accuracy: 0.8300\n",
            "Epoch 7/100\n",
            "25/25 [==============================] - 0s 8ms/step - loss: 0.2962 - accuracy: 0.8600 - val_loss: 0.2810 - val_accuracy: 0.9200\n",
            "Epoch 8/100\n",
            "25/25 [==============================] - 0s 8ms/step - loss: 0.2167 - accuracy: 0.9300 - val_loss: 0.2571 - val_accuracy: 0.9200\n",
            "Epoch 9/100\n",
            "25/25 [==============================] - 0s 8ms/step - loss: 0.2378 - accuracy: 0.9200 - val_loss: 0.2559 - val_accuracy: 0.9200\n",
            "Epoch 10/100\n",
            "25/25 [==============================] - 0s 9ms/step - loss: 0.1789 - accuracy: 0.9200 - val_loss: 0.2581 - val_accuracy: 0.9000\n",
            "Epoch 11/100\n",
            "25/25 [==============================] - 0s 8ms/step - loss: 0.1825 - accuracy: 0.9200 - val_loss: 0.2574 - val_accuracy: 0.9300\n",
            "Epoch 12/100\n",
            "25/25 [==============================] - 0s 8ms/step - loss: 0.2405 - accuracy: 0.8900 - val_loss: 0.2367 - val_accuracy: 0.9000\n",
            "Epoch 13/100\n",
            "25/25 [==============================] - 0s 8ms/step - loss: 0.1892 - accuracy: 0.9200 - val_loss: 0.2300 - val_accuracy: 0.9400\n",
            "Epoch 14/100\n",
            "25/25 [==============================] - 0s 8ms/step - loss: 0.1828 - accuracy: 0.9200 - val_loss: 0.2217 - val_accuracy: 0.9000\n",
            "Epoch 15/100\n",
            "25/25 [==============================] - 0s 9ms/step - loss: 0.1492 - accuracy: 0.9400 - val_loss: 0.2225 - val_accuracy: 0.9100\n",
            "Epoch 16/100\n",
            "25/25 [==============================] - 0s 8ms/step - loss: 0.1915 - accuracy: 0.9400 - val_loss: 0.2380 - val_accuracy: 0.9000\n",
            "Epoch 17/100\n",
            "25/25 [==============================] - 0s 8ms/step - loss: 0.2262 - accuracy: 0.9100 - val_loss: 0.2728 - val_accuracy: 0.8800\n",
            "Epoch 18/100\n",
            "25/25 [==============================] - 0s 8ms/step - loss: 0.1634 - accuracy: 0.9300 - val_loss: 0.2224 - val_accuracy: 0.9000\n",
            "Epoch 19/100\n",
            "25/25 [==============================] - 0s 8ms/step - loss: 0.1595 - accuracy: 0.9600 - val_loss: 0.2567 - val_accuracy: 0.8900\n",
            "Epoch 20/100\n",
            "25/25 [==============================] - 0s 8ms/step - loss: 0.1845 - accuracy: 0.9300 - val_loss: 0.2124 - val_accuracy: 0.9100\n",
            "Epoch 21/100\n",
            "25/25 [==============================] - 0s 8ms/step - loss: 0.1649 - accuracy: 0.9500 - val_loss: 0.2271 - val_accuracy: 0.8800\n",
            "Epoch 22/100\n",
            "25/25 [==============================] - 0s 8ms/step - loss: 0.1522 - accuracy: 0.9400 - val_loss: 0.2050 - val_accuracy: 0.9300\n",
            "Epoch 23/100\n",
            "25/25 [==============================] - 0s 8ms/step - loss: 0.1414 - accuracy: 0.9500 - val_loss: 0.2147 - val_accuracy: 0.9000\n",
            "Epoch 24/100\n",
            "25/25 [==============================] - 0s 9ms/step - loss: 0.1331 - accuracy: 0.9500 - val_loss: 0.1972 - val_accuracy: 0.9100\n",
            "Epoch 25/100\n",
            "25/25 [==============================] - 0s 8ms/step - loss: 0.1638 - accuracy: 0.9300 - val_loss: 0.2077 - val_accuracy: 0.9300\n",
            "Epoch 26/100\n",
            "25/25 [==============================] - 0s 8ms/step - loss: 0.1672 - accuracy: 0.9300 - val_loss: 0.2058 - val_accuracy: 0.9000\n",
            "Epoch 27/100\n",
            "25/25 [==============================] - 0s 8ms/step - loss: 0.1498 - accuracy: 0.9500 - val_loss: 0.2024 - val_accuracy: 0.9200\n",
            "Epoch 28/100\n",
            "25/25 [==============================] - 0s 8ms/step - loss: 0.1125 - accuracy: 0.9400 - val_loss: 0.2133 - val_accuracy: 0.9000\n",
            "Epoch 29/100\n",
            "25/25 [==============================] - 0s 9ms/step - loss: 0.1356 - accuracy: 0.9500 - val_loss: 0.2120 - val_accuracy: 0.9000\n",
            "Epoch 30/100\n",
            "25/25 [==============================] - 0s 8ms/step - loss: 0.1335 - accuracy: 0.9400 - val_loss: 0.2042 - val_accuracy: 0.9200\n",
            "Epoch 31/100\n",
            "25/25 [==============================] - 0s 8ms/step - loss: 0.1456 - accuracy: 0.9300 - val_loss: 0.2281 - val_accuracy: 0.9300\n",
            "Epoch 32/100\n",
            "25/25 [==============================] - 0s 8ms/step - loss: 0.1090 - accuracy: 0.9500 - val_loss: 0.2212 - val_accuracy: 0.9000\n",
            "Epoch 33/100\n",
            "25/25 [==============================] - 0s 8ms/step - loss: 0.1127 - accuracy: 0.9500 - val_loss: 0.2252 - val_accuracy: 0.9000\n",
            "Epoch 34/100\n",
            "25/25 [==============================] - 0s 9ms/step - loss: 0.1198 - accuracy: 0.9700 - val_loss: 0.2053 - val_accuracy: 0.9100\n",
            "Epoch 35/100\n",
            "25/25 [==============================] - 0s 8ms/step - loss: 0.1113 - accuracy: 0.9400 - val_loss: 0.2409 - val_accuracy: 0.8800\n",
            "Epoch 36/100\n",
            "25/25 [==============================] - 0s 8ms/step - loss: 0.1038 - accuracy: 0.9700 - val_loss: 0.1935 - val_accuracy: 0.9300\n",
            "Epoch 37/100\n",
            "25/25 [==============================] - 0s 8ms/step - loss: 0.0940 - accuracy: 0.9600 - val_loss: 0.2072 - val_accuracy: 0.9200\n",
            "Epoch 38/100\n",
            "25/25 [==============================] - 0s 8ms/step - loss: 0.1240 - accuracy: 0.9400 - val_loss: 0.1958 - val_accuracy: 0.9300\n",
            "Epoch 39/100\n",
            "25/25 [==============================] - 0s 8ms/step - loss: 0.2371 - accuracy: 0.8900 - val_loss: 0.1889 - val_accuracy: 0.9400\n",
            "Epoch 40/100\n",
            "25/25 [==============================] - 0s 8ms/step - loss: 0.1749 - accuracy: 0.9400 - val_loss: 0.1826 - val_accuracy: 0.9300\n",
            "Epoch 41/100\n",
            "25/25 [==============================] - 0s 8ms/step - loss: 0.1202 - accuracy: 0.9600 - val_loss: 0.1887 - val_accuracy: 0.9400\n",
            "Epoch 42/100\n",
            "25/25 [==============================] - 0s 8ms/step - loss: 0.1120 - accuracy: 0.9400 - val_loss: 0.1922 - val_accuracy: 0.9200\n",
            "Epoch 43/100\n",
            "25/25 [==============================] - 0s 9ms/step - loss: 0.1039 - accuracy: 0.9400 - val_loss: 0.2074 - val_accuracy: 0.9100\n",
            "Epoch 44/100\n",
            "25/25 [==============================] - 0s 8ms/step - loss: 0.1261 - accuracy: 0.9500 - val_loss: 0.1821 - val_accuracy: 0.9200\n",
            "Epoch 45/100\n",
            "25/25 [==============================] - 0s 9ms/step - loss: 0.0951 - accuracy: 0.9700 - val_loss: 0.2100 - val_accuracy: 0.9100\n",
            "Epoch 46/100\n",
            "25/25 [==============================] - 0s 8ms/step - loss: 0.1100 - accuracy: 0.9700 - val_loss: 0.1948 - val_accuracy: 0.9300\n",
            "Epoch 47/100\n",
            "25/25 [==============================] - 0s 8ms/step - loss: 0.1099 - accuracy: 0.9700 - val_loss: 0.2177 - val_accuracy: 0.9000\n",
            "Epoch 48/100\n",
            "25/25 [==============================] - 0s 9ms/step - loss: 0.0948 - accuracy: 0.9600 - val_loss: 0.2064 - val_accuracy: 0.9100\n",
            "Epoch 49/100\n",
            "25/25 [==============================] - 0s 8ms/step - loss: 0.1033 - accuracy: 0.9700 - val_loss: 0.1906 - val_accuracy: 0.9200\n",
            "Epoch 50/100\n",
            "25/25 [==============================] - 0s 8ms/step - loss: 0.1107 - accuracy: 0.9400 - val_loss: 0.1946 - val_accuracy: 0.9200\n",
            "Epoch 51/100\n",
            "25/25 [==============================] - 0s 8ms/step - loss: 0.1053 - accuracy: 0.9600 - val_loss: 0.2148 - val_accuracy: 0.9000\n",
            "Epoch 52/100\n",
            "25/25 [==============================] - 0s 8ms/step - loss: 0.0990 - accuracy: 0.9700 - val_loss: 0.1824 - val_accuracy: 0.9400\n",
            "Epoch 53/100\n",
            "25/25 [==============================] - 0s 8ms/step - loss: 0.0857 - accuracy: 0.9700 - val_loss: 0.1869 - val_accuracy: 0.9400\n",
            "Epoch 54/100\n",
            "25/25 [==============================] - 0s 8ms/step - loss: 0.1209 - accuracy: 0.9600 - val_loss: 0.3248 - val_accuracy: 0.9300\n",
            "Epoch 55/100\n",
            "25/25 [==============================] - 0s 8ms/step - loss: 0.1327 - accuracy: 0.9500 - val_loss: 0.1931 - val_accuracy: 0.9400\n",
            "Epoch 56/100\n",
            "25/25 [==============================] - 0s 8ms/step - loss: 0.1354 - accuracy: 0.9300 - val_loss: 0.2864 - val_accuracy: 0.8600\n",
            "Epoch 57/100\n",
            "25/25 [==============================] - 0s 9ms/step - loss: 0.1126 - accuracy: 0.9600 - val_loss: 0.1975 - val_accuracy: 0.9300\n",
            "Epoch 58/100\n",
            "25/25 [==============================] - 0s 8ms/step - loss: 0.0895 - accuracy: 0.9700 - val_loss: 0.1947 - val_accuracy: 0.9400\n",
            "Epoch 59/100\n",
            "25/25 [==============================] - 0s 8ms/step - loss: 0.1216 - accuracy: 0.9500 - val_loss: 0.2650 - val_accuracy: 0.8800\n",
            "Epoch 60/100\n",
            "25/25 [==============================] - 0s 8ms/step - loss: 0.1001 - accuracy: 0.9600 - val_loss: 0.1903 - val_accuracy: 0.9200\n",
            "Epoch 61/100\n",
            "25/25 [==============================] - 0s 8ms/step - loss: 0.1040 - accuracy: 0.9700 - val_loss: 0.1882 - val_accuracy: 0.9300\n",
            "Epoch 62/100\n",
            "25/25 [==============================] - 0s 9ms/step - loss: 0.1064 - accuracy: 0.9500 - val_loss: 0.1675 - val_accuracy: 0.9500\n",
            "Epoch 63/100\n",
            "25/25 [==============================] - 0s 8ms/step - loss: 0.0789 - accuracy: 0.9700 - val_loss: 0.2135 - val_accuracy: 0.9200\n",
            "Epoch 64/100\n",
            "25/25 [==============================] - 0s 8ms/step - loss: 0.1114 - accuracy: 0.9600 - val_loss: 0.1945 - val_accuracy: 0.9400\n",
            "Epoch 65/100\n",
            "25/25 [==============================] - 0s 8ms/step - loss: 0.1545 - accuracy: 0.9500 - val_loss: 0.1941 - val_accuracy: 0.9400\n",
            "Epoch 66/100\n",
            "25/25 [==============================] - 0s 8ms/step - loss: 0.1433 - accuracy: 0.9500 - val_loss: 0.1819 - val_accuracy: 0.9400\n",
            "Epoch 67/100\n",
            "25/25 [==============================] - 0s 9ms/step - loss: 0.1168 - accuracy: 0.9400 - val_loss: 0.1742 - val_accuracy: 0.9500\n",
            "Epoch 68/100\n",
            "25/25 [==============================] - 0s 8ms/step - loss: 0.1186 - accuracy: 0.9500 - val_loss: 0.1630 - val_accuracy: 0.9600\n",
            "Epoch 69/100\n",
            "25/25 [==============================] - 0s 8ms/step - loss: 0.1000 - accuracy: 0.9600 - val_loss: 0.1733 - val_accuracy: 0.9400\n",
            "Epoch 70/100\n",
            "25/25 [==============================] - 0s 8ms/step - loss: 0.0980 - accuracy: 0.9500 - val_loss: 0.2397 - val_accuracy: 0.9400\n",
            "Epoch 71/100\n",
            "25/25 [==============================] - 0s 8ms/step - loss: 0.1327 - accuracy: 0.9700 - val_loss: 0.1707 - val_accuracy: 0.9400\n",
            "Epoch 72/100\n",
            "25/25 [==============================] - 0s 8ms/step - loss: 0.0974 - accuracy: 0.9800 - val_loss: 0.1689 - val_accuracy: 0.9400\n",
            "Epoch 73/100\n",
            "25/25 [==============================] - 0s 8ms/step - loss: 0.0781 - accuracy: 0.9600 - val_loss: 0.1854 - val_accuracy: 0.9400\n",
            "Epoch 74/100\n",
            "25/25 [==============================] - 0s 8ms/step - loss: 0.1164 - accuracy: 0.9700 - val_loss: 0.1840 - val_accuracy: 0.9300\n",
            "Epoch 75/100\n",
            "25/25 [==============================] - 0s 8ms/step - loss: 0.0812 - accuracy: 0.9700 - val_loss: 0.1717 - val_accuracy: 0.9400\n",
            "Epoch 76/100\n",
            "25/25 [==============================] - 0s 9ms/step - loss: 0.0930 - accuracy: 0.9700 - val_loss: 0.1726 - val_accuracy: 0.9400\n",
            "Epoch 77/100\n",
            "25/25 [==============================] - 0s 8ms/step - loss: 0.0790 - accuracy: 0.9800 - val_loss: 0.1615 - val_accuracy: 0.9500\n",
            "Epoch 78/100\n",
            "25/25 [==============================] - 0s 8ms/step - loss: 0.0763 - accuracy: 0.9700 - val_loss: 0.1743 - val_accuracy: 0.9400\n",
            "Epoch 79/100\n",
            "25/25 [==============================] - 0s 8ms/step - loss: 0.0900 - accuracy: 0.9800 - val_loss: 0.1632 - val_accuracy: 0.9600\n",
            "Epoch 80/100\n",
            "25/25 [==============================] - 0s 8ms/step - loss: 0.0793 - accuracy: 0.9700 - val_loss: 0.1561 - val_accuracy: 0.9600\n",
            "Epoch 81/100\n",
            "25/25 [==============================] - 0s 9ms/step - loss: 0.0845 - accuracy: 0.9700 - val_loss: 0.1793 - val_accuracy: 0.9200\n",
            "Epoch 82/100\n",
            "25/25 [==============================] - 0s 8ms/step - loss: 0.0794 - accuracy: 0.9700 - val_loss: 0.1832 - val_accuracy: 0.9200\n",
            "Epoch 83/100\n",
            "25/25 [==============================] - 0s 8ms/step - loss: 0.1015 - accuracy: 0.9300 - val_loss: 0.1726 - val_accuracy: 0.9500\n",
            "Epoch 84/100\n",
            "25/25 [==============================] - 0s 8ms/step - loss: 0.1221 - accuracy: 0.9500 - val_loss: 0.1708 - val_accuracy: 0.9500\n",
            "Epoch 85/100\n",
            "25/25 [==============================] - 0s 8ms/step - loss: 0.0691 - accuracy: 0.9700 - val_loss: 0.1553 - val_accuracy: 0.9700\n",
            "Epoch 86/100\n",
            "25/25 [==============================] - 0s 8ms/step - loss: 0.0600 - accuracy: 0.9700 - val_loss: 0.2119 - val_accuracy: 0.9100\n",
            "Epoch 87/100\n",
            "25/25 [==============================] - 0s 8ms/step - loss: 0.0967 - accuracy: 0.9700 - val_loss: 0.1860 - val_accuracy: 0.9200\n",
            "Epoch 88/100\n",
            "25/25 [==============================] - 0s 8ms/step - loss: 0.0913 - accuracy: 0.9500 - val_loss: 0.2076 - val_accuracy: 0.9100\n",
            "Epoch 89/100\n",
            "25/25 [==============================] - 0s 8ms/step - loss: 0.0828 - accuracy: 0.9700 - val_loss: 0.1547 - val_accuracy: 0.9600\n",
            "Epoch 90/100\n",
            "25/25 [==============================] - 0s 8ms/step - loss: 0.1050 - accuracy: 0.9600 - val_loss: 0.1594 - val_accuracy: 0.9600\n",
            "Epoch 91/100\n",
            "25/25 [==============================] - 0s 8ms/step - loss: 0.0672 - accuracy: 0.9700 - val_loss: 0.1420 - val_accuracy: 0.9700\n",
            "Epoch 92/100\n",
            "25/25 [==============================] - 0s 8ms/step - loss: 0.0575 - accuracy: 0.9800 - val_loss: 0.1508 - val_accuracy: 0.9600\n",
            "Epoch 93/100\n",
            "25/25 [==============================] - 0s 8ms/step - loss: 0.0625 - accuracy: 0.9700 - val_loss: 0.1538 - val_accuracy: 0.9600\n",
            "Epoch 94/100\n",
            "25/25 [==============================] - 0s 8ms/step - loss: 0.0631 - accuracy: 0.9900 - val_loss: 0.1425 - val_accuracy: 0.9700\n",
            "Epoch 95/100\n",
            "25/25 [==============================] - 0s 9ms/step - loss: 0.0554 - accuracy: 0.9800 - val_loss: 0.1425 - val_accuracy: 0.9700\n",
            "Epoch 96/100\n",
            "25/25 [==============================] - 0s 8ms/step - loss: 0.0451 - accuracy: 0.9700 - val_loss: 0.2112 - val_accuracy: 0.9400\n",
            "Epoch 97/100\n",
            "25/25 [==============================] - 0s 8ms/step - loss: 0.0873 - accuracy: 0.9500 - val_loss: 0.1586 - val_accuracy: 0.9600\n",
            "Epoch 98/100\n",
            "25/25 [==============================] - 0s 8ms/step - loss: 0.0558 - accuracy: 0.9600 - val_loss: 0.1455 - val_accuracy: 0.9600\n",
            "Epoch 99/100\n",
            "25/25 [==============================] - 0s 8ms/step - loss: 0.1317 - accuracy: 0.9400 - val_loss: 0.1580 - val_accuracy: 0.9600\n",
            "Epoch 100/100\n",
            "25/25 [==============================] - 0s 9ms/step - loss: 0.0828 - accuracy: 0.9700 - val_loss: 0.1785 - val_accuracy: 0.9400\n"
          ],
          "name": "stdout"
        }
      ]
    },
    {
      "cell_type": "markdown",
      "metadata": {
        "id": "HxK6G-xs-SAW",
        "colab_type": "text"
      },
      "source": [
        "Accuracy and plot loss"
      ]
    },
    {
      "cell_type": "code",
      "metadata": {
        "id": "JcGjR4jF-PNI",
        "colab_type": "code",
        "colab": {
          "base_uri": "https://localhost:8080/",
          "height": 545
        },
        "outputId": "983c892b-9709-4110-98c8-b2a5631760e8"
      },
      "source": [
        "%matplotlib inline\n",
        "import matplotlib.pyplot as plt\n",
        "acc = history.history['accuracy']\n",
        "val_acc = history.history['val_accuracy']\n",
        "loss = history.history['loss']\n",
        "val_loss = history.history['val_loss']\n",
        "\n",
        "epochs = range(len(acc))\n",
        "\n",
        "plt.plot(epochs, acc, 'r', label='Training accuracy')\n",
        "plt.plot(epochs, val_acc, 'b', label='Validation accuracy')\n",
        "plt.title('Training and validation accuracy')\n",
        "plt.legend()\n",
        "plt.figure()\n",
        "\n",
        "plt.plot(epochs, loss, 'r', label='Training Loss')\n",
        "plt.plot(epochs, val_loss, 'b', label='Validation Loss')\n",
        "plt.title('Training and validation loss')\n",
        "plt.legend()\n",
        "\n",
        "plt.show()"
      ],
      "execution_count": 15,
      "outputs": [
        {
          "output_type": "display_data",
          "data": {
            "image/png": "[encoded data removed]",
            "text/plain": [
              "<Figure size 432x288 with 1 Axes>"
            ]
          },
          "metadata": {
            "tags": [],
            "needs_background": "light"
          }
        },
        {
          "output_type": "display_data",
          "data": {
            "image/png": "[encoded data removed]",
            "text/plain": [
              "<Figure size 432x288 with 1 Axes>"
            ]
          },
          "metadata": {
            "tags": [],
            "needs_background": "light"
          }
        }
      ]
    }
  ]
}