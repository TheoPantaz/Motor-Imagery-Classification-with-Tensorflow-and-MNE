{
  "nbformat": 4,
  "nbformat_minor": 0,
  "metadata": {
    "celltoolbar": "Raw Cell Format",
    "kernelspec": {
      "display_name": "Python 3",
      "language": "python",
      "name": "python3"
    },
    "language_info": {
      "codemirror_mode": {
        "name": "ipython",
        "version": 3
      },
      "file_extension": ".py",
      "mimetype": "text/x-python",
      "name": "python",
      "nbconvert_exporter": "python",
      "pygments_lexer": "ipython3",
      "version": "3.6.7"
    },
    "colab": {
      "name": "final_bci_with_mne_tensorflow.ipynb",
      "provenance": [],
      "collapsed_sections": [],
      "include_colab_link": true
    },
    "accelerator": "GPU"
  },
  "cells": [
    {
      "cell_type": "markdown",
      "metadata": {
        "id": "view-in-github",
        "colab_type": "text"
      },
      "source": [
        "<a href=\"https://colab.research.google.com/github/TheoPantaz/Motor-Imagery-Classification-with-Tensorflow-and-MNE/blob/master/Motor_Imagery_clsf.ipynb\" target=\"_parent\"><img src=\"https://colab.research.google.com/assets/colab-badge.svg\" alt=\"Open In Colab\"/></a>"
      ]
    },
    {
      "cell_type": "markdown",
      "metadata": {
        "id": "HIJ3nD-Sjv5U"
      },
      "source": [
        "Install mne"
      ]
    },
    {
      "cell_type": "code",
      "metadata": {
        "id": "HnZN_3LKjv5V",
        "outputId": "8782c82d-73c1-4d94-8b6e-95c356e1e31b",
        "colab": {
          "base_uri": "https://localhost:8080/",
          "height": 136
        }
      },
      "source": [
        "!pip install mne\n"
      ],
      "execution_count": null,
      "outputs": [
        {
          "output_type": "stream",
          "text": [
            "Collecting mne\n",
            "\u001b[?25l  Downloading https://files.pythonhosted.org/packages/c9/0d/ba12e84feae362d9808e51aa4e3d96a148db9a047e13e51bb070016fa1ab/mne-0.21.0-py3-none-any.whl (6.8MB)\n",
            "\u001b[K     |████████████████████████████████| 6.8MB 8.3MB/s \n",
            "\u001b[?25hRequirement already satisfied: numpy>=1.11.3 in /usr/local/lib/python3.6/dist-packages (from mne) (1.18.5)\n",
            "Requirement already satisfied: scipy>=0.17.1 in /usr/local/lib/python3.6/dist-packages (from mne) (1.4.1)\n",
            "Installing collected packages: mne\n",
            "Successfully installed mne-0.21.0\n"
          ],
          "name": "stdout"
        }
      ]
    },
    {
      "cell_type": "markdown",
      "metadata": {
        "id": "CRdUZXKjHIIG"
      },
      "source": [
        "Import libraries"
      ]
    },
    {
      "cell_type": "code",
      "metadata": {
        "scrolled": true,
        "tags": [],
        "id": "lEZoh8ppjv5Z"
      },
      "source": [
        "import scipy.io as sio\n",
        "import sklearn.preprocessing as skpr\n",
        "import mne\n",
        "import tensorflow as tf\n",
        "import numpy as np\n",
        "import matplotlib.pyplot as plt\n"
      ],
      "execution_count": null,
      "outputs": []
    },
    {
      "cell_type": "markdown",
      "metadata": {
        "id": "xNpT0inZjv5c"
      },
      "source": [
        "Import data\n"
      ]
    },
    {
      "cell_type": "code",
      "metadata": {
        "id": "uYxbY5sujv5d",
        "outputId": "7cd20c05-c0ba-447c-a644-489a57d16cb0",
        "colab": {
          "base_uri": "https://localhost:8080/",
          "height": 34
        }
      },
      "source": [
        "from google.colab import drive\n",
        "drive.mount('/content/drive')\n",
        "\n",
        "def import_from_mat(filename):\n",
        "    dataset = sio.loadmat(filename, chars_as_strings = True)\n",
        "    return dataset['EEG'], dataset['LABELS'].flatten(), dataset['Fs'][0][0], dataset['events'].T\n",
        "\n",
        "filename = '/content/drive/My Drive/PANTAZ_s2'\n",
        "EEG, LABELS, Fs, events = import_from_mat(filename)"
      ],
      "execution_count": null,
      "outputs": [
        {
          "output_type": "stream",
          "text": [
            "Mounted at /content/drive\n"
          ],
          "name": "stdout"
        }
      ]
    },
    {
      "cell_type": "markdown",
      "metadata": {
        "id": "_2A3Z1vrjv5i"
      },
      "source": [
        "Normalize data"
      ]
    },
    {
      "cell_type": "code",
      "metadata": {
        "id": "M9_GB6Yyjv5m"
      },
      "source": [
        "def standardize(data):\n",
        "    scaler = skpr.StandardScaler()\n",
        "    return scaler.fit_transform(data)\n",
        "\n",
        "EEG = standardize(EEG)"
      ],
      "execution_count": null,
      "outputs": []
    },
    {
      "cell_type": "markdown",
      "metadata": {
        "raw_mimetype": "text/markdown",
        "id": "J-OCmQOBjv5q"
      },
      "source": [
        "Create mne object"
      ]
    },
    {
      "cell_type": "code",
      "metadata": {
        "id": "pD70Wbf7jv5r",
        "outputId": "c2ca5755-0610-445a-d31c-22a975995724",
        "colab": {
          "base_uri": "https://localhost:8080/",
          "height": 68
        }
      },
      "source": [
        "channel_names = ['c1', 'c2', 'c3', 'c4', 'cp1', 'cp2', 'cp3', 'cp4']\n",
        "channel_type = 'eeg'\n",
        "\n",
        "def create_mne_object(EEG, channel_names, channel_type):\n",
        "    info = mne.create_info(channel_names, Fs, ch_types = channel_type)\n",
        "    raw = mne.io.RawArray(EEG.T, info)\n",
        "    return raw\n",
        "\n",
        "raw = create_mne_object(EEG, channel_names, channel_type)"
      ],
      "execution_count": null,
      "outputs": [
        {
          "output_type": "stream",
          "text": [
            "Creating RawArray with float64 data, n_channels=8, n_times=400000\n",
            "    Range : 0 ... 399999 =      0.000 ...  1599.996 secs\n",
            "Ready.\n"
          ],
          "name": "stdout"
        }
      ]
    },
    {
      "cell_type": "markdown",
      "metadata": {
        "id": "kRC4MEGAjv5u"
      },
      "source": [
        "filtering"
      ]
    },
    {
      "cell_type": "code",
      "metadata": {
        "id": "PJdFfRkrjv5v",
        "outputId": "560f0b65-a142-442a-88b4-50a27a8c390e",
        "colab": {
          "base_uri": "https://localhost:8080/",
          "height": 442
        }
      },
      "source": [
        "def filtering(raw, low_freq, high_freq):\n",
        "    # Notch filtering\n",
        "    freqs = (50, 100)\n",
        "    raw = raw.notch_filter(freqs = freqs)\n",
        "\n",
        "    # Apply band-pass filter\n",
        "    raw.filter(low_freq, high_freq, fir_design = 'firwin', skip_by_annotation = 'edge')\n",
        "    return raw\n",
        "    \n",
        "low_freq = 7.\n",
        "high_freq = 30.\n",
        "filtered = filtering(raw, low_freq, high_freq)"
      ],
      "execution_count": null,
      "outputs": [
        {
          "output_type": "stream",
          "text": [
            "Setting up band-stop filter\n",
            "\n",
            "FIR filter parameters\n",
            "---------------------\n",
            "Designing a one-pass, zero-phase, non-causal bandstop filter:\n",
            "- Windowed time-domain design (firwin) method\n",
            "- Hamming window with 0.0194 passband ripple and 53 dB stopband attenuation\n",
            "- Lower transition bandwidth: 0.50 Hz\n",
            "- Upper transition bandwidth: 0.50 Hz\n",
            "- Filter length: 1651 samples (6.604 sec)\n",
            "\n",
            "Filtering raw data in 1 contiguous segment\n",
            "Setting up band-pass filter from 7 - 30 Hz\n",
            "\n",
            "FIR filter parameters\n",
            "---------------------\n",
            "Designing a one-pass, zero-phase, non-causal bandpass filter:\n",
            "- Windowed time-domain design (firwin) method\n",
            "- Hamming window with 0.0194 passband ripple and 53 dB stopband attenuation\n",
            "- Lower passband edge: 7.00\n",
            "- Lower transition bandwidth: 2.00 Hz (-6 dB cutoff frequency: 6.00 Hz)\n",
            "- Upper passband edge: 30.00 Hz\n",
            "- Upper transition bandwidth: 7.50 Hz (-6 dB cutoff frequency: 33.75 Hz)\n",
            "- Filter length: 413 samples (1.652 sec)\n",
            "\n"
          ],
          "name": "stdout"
        }
      ]
    },
    {
      "cell_type": "markdown",
      "metadata": {
        "id": "BbJIlmH_jv54"
      },
      "source": [
        "Epoching the data\n",
        "> IM_dur = duration of original epoch\n",
        "\n",
        "> last_start_of_epoch : at what point(percentage) of the original epoch will the last new epoch start\n",
        "\n"
      ]
    },
    {
      "cell_type": "code",
      "metadata": {
        "id": "SqdF78yBjv54",
        "outputId": "cdfd3f06-f6ac-40bd-a84d-5cd204b2cb5b",
        "colab": {
          "base_uri": "https://localhost:8080/",
          "height": 153
        }
      },
      "source": [
        "def Epoch_Setup(events, IM_dur, step, last_start_of_epoch): \n",
        "  IM_dur = int(IM_dur * Fs)\n",
        "  step = int(step * IM_dur)\n",
        "  last_start_of_epoch = int(last_start_of_epoch * IM_dur)\n",
        "  print(last_start_of_epoch)\n",
        "  steps_sum = int(last_start_of_epoch / step)\n",
        "  new_events = [[],[],[]]\n",
        "\n",
        "  for index in events:\n",
        "    new_events[0].extend(np.arange(index[0], index[0] + last_start_of_epoch, step))\n",
        "    new_events[1].extend([0] * steps_sum) \n",
        "    new_events[2].extend([index[-1]] * steps_sum) \n",
        "  new_events = np.array(new_events).T\n",
        "  return new_events\n",
        "\n",
        "def Epochs(data, events, tmin, tmax):\n",
        "  epochs = mne.Epochs(data, events=events, tmin=tmin, tmax=tmax, preload=True, baseline=None, proj=True)\n",
        "  epoched_data = epochs.get_data()\n",
        "  labels = epochs.events[:, -1]\n",
        "  return epoched_data, labels\n",
        "\n",
        "IM_dur = 4 \n",
        "step = 1/250\n",
        "last_start_of_epoch = 0.5\n",
        "\n",
        "tmix = -1\n",
        "tmax = 2\n",
        "\n",
        "new_events = Epoch_Setup(events, IM_dur, step, last_start_of_epoch)\n",
        "epoched_data, labels = Epochs(filtered, new_events, tmix, tmax)"
      ],
      "execution_count": null,
      "outputs": [
        {
          "output_type": "stream",
          "text": [
            "500\n",
            "Not setting metadata\n",
            "Not setting metadata\n",
            "25000 matching events found\n",
            "No baseline correction applied\n",
            "0 projection items activated\n",
            "Loading data for 25000 events and 751 original time points ...\n",
            "0 bad epochs dropped\n"
          ],
          "name": "stdout"
        }
      ]
    },
    {
      "cell_type": "markdown",
      "metadata": {
        "id": "lpUY1255PSal"
      },
      "source": [
        "Split training and testing data"
      ]
    },
    {
      "cell_type": "code",
      "metadata": {
        "id": "Uhyqf_1_PYY2",
        "outputId": "3c0a53f3-4433-4847-dc09-282c635518f7",
        "colab": {
          "base_uri": "https://localhost:8080/",
          "height": 51
        }
      },
      "source": [
        "def data_split(data, labels, split):\n",
        "  split = int(split * data.shape[0])\n",
        "  X_train = epoched_data[:split]\n",
        "  X_test = epoched_data[split:]\n",
        "  Y_train = labels[:split]\n",
        "  Y_test = labels[split:]\n",
        "  return X_train, X_test, Y_train, Y_test\n",
        "\n",
        "split = 0.5\n",
        "X_train, X_test, Y_train, Y_test = data_split(epoched_data, labels, split)\n",
        "print(X_train.shape)\n",
        "print(Y_train.shape)"
      ],
      "execution_count": null,
      "outputs": [
        {
          "output_type": "stream",
          "text": [
            "(12500, 8, 751)\n",
            "(12500,)\n"
          ],
          "name": "stdout"
        }
      ]
    },
    {
      "cell_type": "markdown",
      "metadata": {
        "id": "f4bPEv2tjv51"
      },
      "source": [
        "CSP fit and transform"
      ]
    },
    {
      "cell_type": "code",
      "metadata": {
        "id": "SLB2-4o7jv51",
        "outputId": "a40488fc-83c4-4b17-fd79-659f195df35b",
        "colab": {
          "base_uri": "https://localhost:8080/",
          "height": 255
        }
      },
      "source": [
        "components = 8\n",
        "csp = mne.decoding.CSP(n_components=components, reg='oas', log = None, norm_trace=True)\n",
        "X_train = csp.fit_transform(X_train, Y_train)\n",
        "X_test = csp.transform(X_test)"
      ],
      "execution_count": null,
      "outputs": [
        {
          "output_type": "stream",
          "text": [
            "Computing rank from data with rank=None\n",
            "    Using tolerance 0.11 (2.2e-16 eps * 8 dim * 6.2e+13  max singular value)\n",
            "    Estimated rank (mag): 8\n",
            "    MAG: rank 8 computed from 8 data channels with 0 projectors\n",
            "Reducing data rank from 8 -> 8\n",
            "Estimating covariance using OAS\n",
            "Done.\n",
            "Computing rank from data with rank=None\n",
            "    Using tolerance 0.087 (2.2e-16 eps * 8 dim * 4.9e+13  max singular value)\n",
            "    Estimated rank (mag): 8\n",
            "    MAG: rank 8 computed from 8 data channels with 0 projectors\n",
            "Reducing data rank from 8 -> 8\n",
            "Estimating covariance using OAS\n",
            "Done.\n"
          ],
          "name": "stdout"
        }
      ]
    },
    {
      "cell_type": "markdown",
      "metadata": {
        "id": "6UHM0hJoNOY3"
      },
      "source": [
        "Data reshape for Tensorflow model\n",
        "\n",
        "\n",
        "> Create batches for LSTM\n",
        "\n"
      ]
    },
    {
      "cell_type": "code",
      "metadata": {
        "id": "B7EuIgpDjv5-"
      },
      "source": [
        "def reshape_data(X_train, X_test, labels, final_reshape):\n",
        "  X_train = np.reshape(X_train, (int(X_train.shape[0]/final_reshape), final_reshape, X_train.shape[-1]))\n",
        "  X_test = np.reshape(X_test, (int(X_test.shape[0]/final_reshape), final_reshape, X_test.shape[-1]))\n",
        "\n",
        "  n_labels = []\n",
        "  for i in range(0,len(labels),final_reshape):\n",
        "    n_labels.append(labels[i])\n",
        "  Labels = np.array(n_labels)\n",
        "  Y_train = Labels[:X_train.shape[0]] - 1\n",
        "  Y_test = Labels[X_train.shape[0]:] - 1\n",
        "  return X_train, X_test, Y_train, Y_test\n",
        "\n",
        "reshape_factor = int(last_start_of_epoch / step)\n",
        "final_reshape = int(reshape_factor)\n",
        "X_train, X_test, Y_train, Y_test = reshape_data(X_train, X_test, labels, final_reshape)  "
      ],
      "execution_count": null,
      "outputs": []
    },
    {
      "cell_type": "markdown",
      "metadata": {
        "id": "zgjbH_kIjv57"
      },
      "source": [
        "Create tensorflow model"
      ]
    },
    {
      "cell_type": "code",
      "metadata": {
        "id": "Bq3p6F5ljv58",
        "outputId": "72de2a27-8c66-4a9b-b003-e727db159320",
        "colab": {
          "base_uri": "https://localhost:8080/",
          "height": 357
        }
      },
      "source": [
        "model = tf.keras.Sequential([\n",
        "    tf.keras.layers.LSTM(128,  input_shape = [None,X_train.shape[-1]], return_sequences = True),\n",
        "    tf.keras.layers.LSTM(256),\n",
        "    tf.keras.layers.Dropout(0.2),\n",
        "    tf.keras.layers.Dense(64, activation = 'relu'),\n",
        "    tf.keras.layers.Dense(64, activation = 'relu'),\n",
        "    tf.keras.layers.Dense(1, activation = 'sigmoid')        \n",
        "])\n",
        "model.compile(loss='binary_crossentropy',optimizer=tf.keras.optimizers.Adam(lr = 0.0001),metrics=['accuracy'])\n",
        "model.summary()\n"
      ],
      "execution_count": null,
      "outputs": [
        {
          "output_type": "stream",
          "text": [
            "Model: \"sequential_1\"\n",
            "_________________________________________________________________\n",
            "Layer (type)                 Output Shape              Param #   \n",
            "=================================================================\n",
            "lstm_2 (LSTM)                (None, None, 128)         70144     \n",
            "_________________________________________________________________\n",
            "lstm_3 (LSTM)                (None, 256)               394240    \n",
            "_________________________________________________________________\n",
            "dropout_1 (Dropout)          (None, 256)               0         \n",
            "_________________________________________________________________\n",
            "dense_3 (Dense)              (None, 64)                16448     \n",
            "_________________________________________________________________\n",
            "dense_4 (Dense)              (None, 64)                4160      \n",
            "_________________________________________________________________\n",
            "dense_5 (Dense)              (None, 1)                 65        \n",
            "=================================================================\n",
            "Total params: 485,057\n",
            "Trainable params: 485,057\n",
            "Non-trainable params: 0\n",
            "_________________________________________________________________\n"
          ],
          "name": "stdout"
        }
      ]
    },
    {
      "cell_type": "markdown",
      "metadata": {
        "id": "QMYPMRkrYZaP"
      },
      "source": [
        "Model fit"
      ]
    },
    {
      "cell_type": "code",
      "metadata": {
        "id": "s0Gbf_CYYb_4",
        "outputId": "28a393a2-532e-46ab-bca5-145d32d84e5b",
        "colab": {
          "base_uri": "https://localhost:8080/",
          "height": 1000
        }
      },
      "source": [
        "history = model.fit(X_train, Y_train, epochs= 50, batch_size = 25, validation_data=(X_test, Y_test), verbose=1)"
      ],
      "execution_count": null,
      "outputs": [
        {
          "output_type": "stream",
          "text": [
            "Epoch 1/50\n",
            "4/4 [==============================] - 1s 182ms/step - loss: 0.6915 - accuracy: 0.5400 - val_loss: 0.6891 - val_accuracy: 0.5800\n",
            "Epoch 2/50\n",
            "4/4 [==============================] - 0s 35ms/step - loss: 0.6838 - accuracy: 0.6400 - val_loss: 0.6850 - val_accuracy: 0.5100\n",
            "Epoch 3/50\n",
            "4/4 [==============================] - 0s 27ms/step - loss: 0.6740 - accuracy: 0.6000 - val_loss: 0.6798 - val_accuracy: 0.5000\n",
            "Epoch 4/50\n",
            "4/4 [==============================] - 0s 24ms/step - loss: 0.6683 - accuracy: 0.6200 - val_loss: 0.6692 - val_accuracy: 0.7000\n",
            "Epoch 5/50\n",
            "4/4 [==============================] - 0s 19ms/step - loss: 0.6584 - accuracy: 0.7300 - val_loss: 0.6545 - val_accuracy: 0.8600\n",
            "Epoch 6/50\n",
            "4/4 [==============================] - 0s 19ms/step - loss: 0.6412 - accuracy: 0.7500 - val_loss: 0.6362 - val_accuracy: 0.8900\n",
            "Epoch 7/50\n",
            "4/4 [==============================] - 0s 20ms/step - loss: 0.6194 - accuracy: 0.7900 - val_loss: 0.6158 - val_accuracy: 0.7300\n",
            "Epoch 8/50\n",
            "4/4 [==============================] - 0s 24ms/step - loss: 0.5937 - accuracy: 0.8300 - val_loss: 0.5806 - val_accuracy: 0.9300\n",
            "Epoch 9/50\n",
            "4/4 [==============================] - 0s 20ms/step - loss: 0.5459 - accuracy: 0.9400 - val_loss: 0.5332 - val_accuracy: 0.9100\n",
            "Epoch 10/50\n",
            "4/4 [==============================] - 0s 20ms/step - loss: 0.4748 - accuracy: 0.9200 - val_loss: 0.4560 - val_accuracy: 0.9000\n",
            "Epoch 11/50\n",
            "4/4 [==============================] - 0s 21ms/step - loss: 0.3952 - accuracy: 0.8900 - val_loss: 0.3738 - val_accuracy: 0.8900\n",
            "Epoch 12/50\n",
            "4/4 [==============================] - 0s 20ms/step - loss: 0.3166 - accuracy: 0.9200 - val_loss: 0.2872 - val_accuracy: 0.9300\n",
            "Epoch 13/50\n",
            "4/4 [==============================] - 0s 21ms/step - loss: 0.2864 - accuracy: 0.9100 - val_loss: 0.2787 - val_accuracy: 0.9000\n",
            "Epoch 14/50\n",
            "4/4 [==============================] - 0s 23ms/step - loss: 0.2210 - accuracy: 0.9300 - val_loss: 0.2942 - val_accuracy: 0.8900\n",
            "Epoch 15/50\n",
            "4/4 [==============================] - 0s 19ms/step - loss: 0.1924 - accuracy: 0.9400 - val_loss: 0.2244 - val_accuracy: 0.9100\n",
            "Epoch 16/50\n",
            "4/4 [==============================] - 0s 19ms/step - loss: 0.1808 - accuracy: 0.9400 - val_loss: 0.2538 - val_accuracy: 0.9100\n",
            "Epoch 17/50\n",
            "4/4 [==============================] - 0s 19ms/step - loss: 0.1473 - accuracy: 0.9700 - val_loss: 0.1934 - val_accuracy: 0.9400\n",
            "Epoch 18/50\n",
            "4/4 [==============================] - 0s 19ms/step - loss: 0.1612 - accuracy: 0.9600 - val_loss: 0.1923 - val_accuracy: 0.9400\n",
            "Epoch 19/50\n",
            "4/4 [==============================] - 0s 19ms/step - loss: 0.1458 - accuracy: 0.9700 - val_loss: 0.1921 - val_accuracy: 0.9400\n",
            "Epoch 20/50\n",
            "4/4 [==============================] - 0s 19ms/step - loss: 0.1673 - accuracy: 0.9400 - val_loss: 0.1772 - val_accuracy: 0.9500\n",
            "Epoch 21/50\n",
            "4/4 [==============================] - 0s 19ms/step - loss: 0.1809 - accuracy: 0.9300 - val_loss: 0.1756 - val_accuracy: 0.9400\n",
            "Epoch 22/50\n",
            "4/4 [==============================] - 0s 18ms/step - loss: 0.1437 - accuracy: 0.9400 - val_loss: 0.2837 - val_accuracy: 0.8700\n",
            "Epoch 23/50\n",
            "4/4 [==============================] - 0s 18ms/step - loss: 0.1409 - accuracy: 0.9500 - val_loss: 0.1668 - val_accuracy: 0.9600\n",
            "Epoch 24/50\n",
            "4/4 [==============================] - 0s 18ms/step - loss: 0.1503 - accuracy: 0.9600 - val_loss: 0.1672 - val_accuracy: 0.9500\n",
            "Epoch 25/50\n",
            "4/4 [==============================] - 0s 20ms/step - loss: 0.1087 - accuracy: 0.9600 - val_loss: 0.2570 - val_accuracy: 0.8900\n",
            "Epoch 26/50\n",
            "4/4 [==============================] - 0s 19ms/step - loss: 0.1326 - accuracy: 0.9500 - val_loss: 0.1568 - val_accuracy: 0.9600\n",
            "Epoch 27/50\n",
            "4/4 [==============================] - 0s 19ms/step - loss: 0.1592 - accuracy: 0.9500 - val_loss: 0.1999 - val_accuracy: 0.9300\n",
            "Epoch 28/50\n",
            "4/4 [==============================] - 0s 19ms/step - loss: 0.1202 - accuracy: 0.9700 - val_loss: 0.1599 - val_accuracy: 0.9600\n",
            "Epoch 29/50\n",
            "4/4 [==============================] - 0s 19ms/step - loss: 0.0996 - accuracy: 0.9800 - val_loss: 0.2303 - val_accuracy: 0.9000\n",
            "Epoch 30/50\n",
            "4/4 [==============================] - 0s 20ms/step - loss: 0.1145 - accuracy: 0.9600 - val_loss: 0.1526 - val_accuracy: 0.9600\n",
            "Epoch 31/50\n",
            "4/4 [==============================] - 0s 19ms/step - loss: 0.1113 - accuracy: 0.9600 - val_loss: 0.1754 - val_accuracy: 0.9400\n",
            "Epoch 32/50\n",
            "4/4 [==============================] - 0s 18ms/step - loss: 0.1047 - accuracy: 0.9700 - val_loss: 0.2006 - val_accuracy: 0.9300\n",
            "Epoch 33/50\n",
            "4/4 [==============================] - 0s 19ms/step - loss: 0.0975 - accuracy: 0.9800 - val_loss: 0.1557 - val_accuracy: 0.9500\n",
            "Epoch 34/50\n",
            "4/4 [==============================] - 0s 19ms/step - loss: 0.1009 - accuracy: 0.9600 - val_loss: 0.1518 - val_accuracy: 0.9600\n",
            "Epoch 35/50\n",
            "4/4 [==============================] - 0s 19ms/step - loss: 0.0828 - accuracy: 0.9700 - val_loss: 0.2000 - val_accuracy: 0.9300\n",
            "Epoch 36/50\n",
            "4/4 [==============================] - 0s 20ms/step - loss: 0.0986 - accuracy: 0.9600 - val_loss: 0.1547 - val_accuracy: 0.9600\n",
            "Epoch 37/50\n",
            "4/4 [==============================] - 0s 19ms/step - loss: 0.1257 - accuracy: 0.9600 - val_loss: 0.1553 - val_accuracy: 0.9600\n",
            "Epoch 38/50\n",
            "4/4 [==============================] - 0s 20ms/step - loss: 0.0984 - accuracy: 0.9600 - val_loss: 0.2777 - val_accuracy: 0.8900\n",
            "Epoch 39/50\n",
            "4/4 [==============================] - 0s 19ms/step - loss: 0.0918 - accuracy: 0.9600 - val_loss: 0.1632 - val_accuracy: 0.9500\n",
            "Epoch 40/50\n",
            "4/4 [==============================] - 0s 19ms/step - loss: 0.1423 - accuracy: 0.9600 - val_loss: 0.1651 - val_accuracy: 0.9500\n",
            "Epoch 41/50\n",
            "4/4 [==============================] - 0s 22ms/step - loss: 0.0895 - accuracy: 0.9600 - val_loss: 0.2552 - val_accuracy: 0.8900\n",
            "Epoch 42/50\n",
            "4/4 [==============================] - 0s 19ms/step - loss: 0.0918 - accuracy: 0.9700 - val_loss: 0.1603 - val_accuracy: 0.9600\n",
            "Epoch 43/50\n",
            "4/4 [==============================] - 0s 19ms/step - loss: 0.1618 - accuracy: 0.9600 - val_loss: 0.2159 - val_accuracy: 0.9400\n",
            "Epoch 44/50\n",
            "4/4 [==============================] - 0s 18ms/step - loss: 0.1297 - accuracy: 0.9600 - val_loss: 0.2075 - val_accuracy: 0.9100\n",
            "Epoch 45/50\n",
            "4/4 [==============================] - 0s 19ms/step - loss: 0.1388 - accuracy: 0.9500 - val_loss: 0.1843 - val_accuracy: 0.9400\n",
            "Epoch 46/50\n",
            "4/4 [==============================] - 0s 22ms/step - loss: 0.0669 - accuracy: 0.9800 - val_loss: 0.1824 - val_accuracy: 0.9400\n",
            "Epoch 47/50\n",
            "4/4 [==============================] - 0s 19ms/step - loss: 0.1221 - accuracy: 0.9600 - val_loss: 0.1611 - val_accuracy: 0.9500\n",
            "Epoch 48/50\n",
            "4/4 [==============================] - 0s 20ms/step - loss: 0.0728 - accuracy: 0.9800 - val_loss: 0.2172 - val_accuracy: 0.9100\n",
            "Epoch 49/50\n",
            "4/4 [==============================] - 0s 19ms/step - loss: 0.1021 - accuracy: 0.9700 - val_loss: 0.1874 - val_accuracy: 0.9200\n",
            "Epoch 50/50\n",
            "4/4 [==============================] - 0s 19ms/step - loss: 0.0806 - accuracy: 0.9800 - val_loss: 0.1596 - val_accuracy: 0.9500\n"
          ],
          "name": "stdout"
        }
      ]
    },
    {
      "cell_type": "markdown",
      "metadata": {
        "id": "HxK6G-xs-SAW"
      },
      "source": [
        "Accuracy and plot loss"
      ]
    },
    {
      "cell_type": "code",
      "metadata": {
        "id": "JcGjR4jF-PNI",
        "outputId": "37ee9953-cae8-4a2c-dabb-0d6045f333e7",
        "colab": {
          "base_uri": "https://localhost:8080/",
          "height": 545
        }
      },
      "source": [
        "%matplotlib inline\n",
        "import matplotlib.pyplot as plt\n",
        "acc = history.history['accuracy']\n",
        "val_acc = history.history['val_accuracy']\n",
        "loss = history.history['loss']\n",
        "val_loss = history.history['val_loss']\n",
        "\n",
        "epochs = range(len(acc))\n",
        "\n",
        "plt.plot(epochs, acc, 'r', label='Training accuracy')\n",
        "plt.plot(epochs, val_acc, 'b', label='Validation accuracy')\n",
        "plt.title('Training and validation accuracy')\n",
        "plt.legend()\n",
        "plt.figure()\n",
        "\n",
        "plt.plot(epochs, loss, 'r', label='Training Loss')\n",
        "plt.plot(epochs, val_loss, 'b', label='Validation Loss')\n",
        "plt.title('Training and validation loss')\n",
        "plt.legend()\n",
        "\n",
        "plt.show()"
      ],
      "execution_count": null,
      "outputs": [
        {
          "output_type": "display_data",
          "data": {
            "image/png": "[encoded data removed]",
            "text/plain": [
              "<Figure size 432x288 with 1 Axes>"
            ]
          },
          "metadata": {
            "tags": [],
            "needs_background": "light"
          }
        },
        {
          "output_type": "display_data",
          "data": {
            "image/png": "[encoded data removed]",
            "text/plain": [
              "<Figure size 432x288 with 1 Axes>"
            ]
          },
          "metadata": {
            "tags": [],
            "needs_background": "light"
          }
        }
      ]
    },
    {
      "cell_type": "markdown",
      "metadata": {
        "id": "2ojjm45QUb3u"
      },
      "source": [
        "Running classifier"
      ]
    },
    {
      "cell_type": "code",
      "metadata": {
        "id": "5txbPBwaA2RP",
        "outputId": "b482d3b3-8921-4f9f-bb67-90a48c4beacf",
        "colab": {
          "base_uri": "https://localhost:8080/",
          "height": 890
        }
      },
      "source": [
        "tmin = -1\n",
        "tmax = 4\n",
        "\n",
        "epoched_data_running, labels_running = Epochs(filtered, events, tmix, tmax)\n",
        "split = 0.5\n",
        "split = int(split * epoched_data_running.shape[0])\n",
        "X_test_running = epoched_data_running[split:]\n",
        "Y_test_running = LABELS[split:-1] - 1\n",
        "\n",
        "w_length = int(Fs * 1.5)   # running classifier: window length\n",
        "w_step = int(Fs/250)  # running classifier: window step size\n",
        "w_start = np.arange(0, X_test_running.shape[2] - w_length, w_step)\n",
        "final_reshape = int(reshape_factor/4)\n",
        "\n",
        "scores = [] \n",
        "batch_data = []\n",
        "for i, n in enumerate(w_start):\n",
        "  data = csp.transform(X_test_running[...,n:n+w_length])\n",
        "  batch_data.append(data)\n",
        "  if (i+1) % final_reshape == 0:\n",
        "    batch_data = np.transpose(np.array(batch_data), (1,0,2))\n",
        "    scores.append(model.evaluate(batch_data, Y_test_running))\n",
        "    batch_data = []\n",
        "scores = np.array(scores)\n",
        "w_times = (np.arange(0, X_test_running.shape[2] - w_length, final_reshape * w_step) + w_length / 2.) / Fs + tmin\n",
        "w_times = w_times[:-1]\n",
        "\n",
        "plt.figure()\n",
        "plt.plot(w_times, scores[:,1], label='Score')\n",
        "plt.axvline(0, linestyle='--', color='k', label='Onset')\n",
        "plt.axhline(0.5, linestyle='-', color='k', label='Chance')\n",
        "plt.xlabel('time (s)')\n",
        "plt.ylabel('classification accuracy')\n",
        "plt.title('Classification score over time')\n",
        "plt.legend(loc='lower right')\n",
        "plt.show()\n"
      ],
      "execution_count": null,
      "outputs": [
        {
          "output_type": "stream",
          "text": [
            "Not setting metadata\n",
            "Not setting metadata\n",
            "200 matching events found\n",
            "No baseline correction applied\n",
            "0 projection items activated\n",
            "Loading data for 200 events and 1251 original time points ...\n",
            "1 bad epochs dropped\n",
            "4/4 [==============================] - 0s 4ms/step - loss: 1.2502 - accuracy: 0.6200\n",
            "4/4 [==============================] - 0s 4ms/step - loss: 1.2083 - accuracy: 0.6300\n",
            "4/4 [==============================] - 0s 5ms/step - loss: 1.1731 - accuracy: 0.6000\n",
            "4/4 [==============================] - 0s 4ms/step - loss: 1.0849 - accuracy: 0.6200\n",
            "4/4 [==============================] - 0s 4ms/step - loss: 1.0377 - accuracy: 0.6100\n",
            "4/4 [==============================] - 0s 4ms/step - loss: 0.9203 - accuracy: 0.6600\n",
            "4/4 [==============================] - 0s 4ms/step - loss: 0.7974 - accuracy: 0.6600\n",
            "4/4 [==============================] - 0s 4ms/step - loss: 0.6586 - accuracy: 0.7300\n",
            "4/4 [==============================] - 0s 4ms/step - loss: 0.5651 - accuracy: 0.7800\n",
            "4/4 [==============================] - 0s 4ms/step - loss: 0.4558 - accuracy: 0.8300\n",
            "4/4 [==============================] - 0s 5ms/step - loss: 0.3913 - accuracy: 0.8500\n",
            "4/4 [==============================] - 0s 4ms/step - loss: 0.3677 - accuracy: 0.8600\n",
            "4/4 [==============================] - 0s 4ms/step - loss: 0.3295 - accuracy: 0.8800\n",
            "4/4 [==============================] - 0s 4ms/step - loss: 0.2978 - accuracy: 0.9000\n",
            "4/4 [==============================] - 0s 4ms/step - loss: 0.2660 - accuracy: 0.9000\n",
            "4/4 [==============================] - 0s 4ms/step - loss: 0.2462 - accuracy: 0.9200\n",
            "4/4 [==============================] - 0s 4ms/step - loss: 0.2213 - accuracy: 0.9100\n",
            "4/4 [==============================] - 0s 4ms/step - loss: 0.2246 - accuracy: 0.9000\n",
            "4/4 [==============================] - 0s 4ms/step - loss: 0.2094 - accuracy: 0.8900\n",
            "4/4 [==============================] - 0s 4ms/step - loss: 0.1952 - accuracy: 0.9100\n",
            "4/4 [==============================] - 0s 4ms/step - loss: 0.1844 - accuracy: 0.9300\n",
            "4/4 [==============================] - 0s 4ms/step - loss: 0.1913 - accuracy: 0.9300\n",
            "4/4 [==============================] - 0s 4ms/step - loss: 0.2014 - accuracy: 0.9500\n",
            "4/4 [==============================] - 0s 4ms/step - loss: 0.2254 - accuracy: 0.9200\n",
            "4/4 [==============================] - 0s 4ms/step - loss: 0.2355 - accuracy: 0.9200\n",
            "4/4 [==============================] - 0s 4ms/step - loss: 0.2454 - accuracy: 0.9000\n",
            "4/4 [==============================] - 0s 4ms/step - loss: 0.2809 - accuracy: 0.8900\n",
            "4/4 [==============================] - 0s 4ms/step - loss: 0.3221 - accuracy: 0.8900\n"
          ],
          "name": "stdout"
        },
        {
          "output_type": "display_data",
          "data": {
            "image/png": "[encoded data removed]",
            "text/plain": [
              "<Figure size 432x288 with 1 Axes>"
            ]
          },
          "metadata": {
            "tags": [],
            "needs_background": "light"
          }
        }
      ]
    },
    {
      "cell_type": "code",
      "metadata": {
        "id": "nlRrrFCTESCA"
      },
      "source": [
        ""
      ],
      "execution_count": null,
      "outputs": []
    }
  ]
}