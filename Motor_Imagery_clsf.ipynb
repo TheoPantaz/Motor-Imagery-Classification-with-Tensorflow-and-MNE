{
  "nbformat": 4,
  "nbformat_minor": 0,
  "metadata": {
    "celltoolbar": "Raw Cell Format",
    "kernelspec": {
      "display_name": "Python 3",
      "language": "python",
      "name": "python3"
    },
    "language_info": {
      "codemirror_mode": {
        "name": "ipython",
        "version": 3
      },
      "file_extension": ".py",
      "mimetype": "text/x-python",
      "name": "python",
      "nbconvert_exporter": "python",
      "pygments_lexer": "ipython3",
      "version": "3.6.7"
    },
    "colab": {
      "name": "Copy of bci_with_mne_tensorflow.ipynb",
      "provenance": [],
      "collapsed_sections": [],
      "include_colab_link": true
    },
    "accelerator": "GPU"
  },
  "cells": [
    {
      "cell_type": "markdown",
      "metadata": {
        "id": "view-in-github",
        "colab_type": "text"
      },
      "source": [
        "<a href=\"https://colab.research.google.com/github/TheoPantaz/Motor-Imagery-Classification-with-Tensorflow-and-MNE/blob/master/Motor_Imagery_clsf.ipynb\" target=\"_parent\"><img src=\"https://colab.research.google.com/assets/colab-badge.svg\" alt=\"Open In Colab\"/></a>"
      ]
    },
    {
      "cell_type": "markdown",
      "metadata": {
        "id": "HIJ3nD-Sjv5U",
        "colab_type": "text"
      },
      "source": [
        "Install mne"
      ]
    },
    {
      "cell_type": "code",
      "metadata": {
        "id": "HnZN_3LKjv5V",
        "colab_type": "code",
        "colab": {
          "base_uri": "https://localhost:8080/",
          "height": 136
        },
        "outputId": "2bf3359c-6d57-4d32-a510-304e7eaa7283"
      },
      "source": [
        "!pip install mne\n"
      ],
      "execution_count": 2,
      "outputs": [
        {
          "output_type": "stream",
          "text": [
            "Collecting mne\n",
            "\u001b[?25l  Downloading https://files.pythonhosted.org/packages/c9/0d/ba12e84feae362d9808e51aa4e3d96a148db9a047e13e51bb070016fa1ab/mne-0.21.0-py3-none-any.whl (6.8MB)\n",
            "\u001b[K     |████████████████████████████████| 6.8MB 3.5MB/s \n",
            "\u001b[?25hRequirement already satisfied: scipy>=0.17.1 in /usr/local/lib/python3.6/dist-packages (from mne) (1.4.1)\n",
            "Requirement already satisfied: numpy>=1.11.3 in /usr/local/lib/python3.6/dist-packages (from mne) (1.18.5)\n",
            "Installing collected packages: mne\n",
            "Successfully installed mne-0.21.0\n"
          ],
          "name": "stdout"
        }
      ]
    },
    {
      "cell_type": "markdown",
      "metadata": {
        "id": "CRdUZXKjHIIG",
        "colab_type": "text"
      },
      "source": [
        "Import libraries"
      ]
    },
    {
      "cell_type": "code",
      "metadata": {
        "scrolled": true,
        "tags": [],
        "id": "lEZoh8ppjv5Z",
        "colab_type": "code",
        "colab": {}
      },
      "source": [
        "import scipy.io as sio\n",
        "import sklearn.preprocessing as skpr\n",
        "import mne\n",
        "import tensorflow as tf\n",
        "\n",
        "import os\n",
        "import numpy as np\n",
        "import matplotlib.pyplot as plt\n",
        "\n",
        "\n",
        "from sklearn.pipeline import Pipeline\n",
        "from sklearn.discriminant_analysis import LinearDiscriminantAnalysis\n",
        "from sklearn.model_selection import ShuffleSplit, cross_val_score, StratifiedKFold\n",
        "from sklearn.preprocessing import LabelEncoder"
      ],
      "execution_count": 3,
      "outputs": []
    },
    {
      "cell_type": "markdown",
      "metadata": {
        "id": "xNpT0inZjv5c",
        "colab_type": "text"
      },
      "source": [
        "Import data\n"
      ]
    },
    {
      "cell_type": "code",
      "metadata": {
        "id": "uYxbY5sujv5d",
        "colab_type": "code",
        "colab": {
          "base_uri": "https://localhost:8080/",
          "height": 34
        },
        "outputId": "64528b3d-951f-4a26-be5a-6c18512abba2"
      },
      "source": [
        "from google.colab import drive\n",
        "drive.mount('/content/drive')\n",
        "\n",
        "def import_from_mat(filename):\n",
        "    dataset = sio.loadmat(filename, chars_as_strings = True)\n",
        "    return dataset['EEG'], dataset['LABELS'].flatten(), dataset['Fs'][0][0], dataset['events'].T\n",
        "\n",
        "filename = '/content/drive/My Drive/PANTAZ_s2'\n",
        "EEG, LABELS, Fs, events = import_from_mat(filename)"
      ],
      "execution_count": 31,
      "outputs": [
        {
          "output_type": "stream",
          "text": [
            "Drive already mounted at /content/drive; to attempt to forcibly remount, call drive.mount(\"/content/drive\", force_remount=True).\n"
          ],
          "name": "stdout"
        }
      ]
    },
    {
      "cell_type": "markdown",
      "metadata": {
        "id": "_2A3Z1vrjv5i",
        "colab_type": "text"
      },
      "source": [
        "Normalize data"
      ]
    },
    {
      "cell_type": "code",
      "metadata": {
        "id": "M9_GB6Yyjv5m",
        "colab_type": "code",
        "colab": {}
      },
      "source": [
        "def standardize(data):\n",
        "    scaler = skpr.StandardScaler()\n",
        "    return scaler.fit_transform(data)\n",
        "\n",
        "EEG = standardize(EEG)"
      ],
      "execution_count": 32,
      "outputs": []
    },
    {
      "cell_type": "markdown",
      "metadata": {
        "raw_mimetype": "text/markdown",
        "id": "J-OCmQOBjv5q",
        "colab_type": "text"
      },
      "source": [
        "Create mne object"
      ]
    },
    {
      "cell_type": "code",
      "metadata": {
        "id": "pD70Wbf7jv5r",
        "colab_type": "code",
        "colab": {
          "base_uri": "https://localhost:8080/",
          "height": 68
        },
        "outputId": "7c064c29-70d1-4fc8-d87a-b4c4e7f4c964"
      },
      "source": [
        "channel_names = ['c1', 'c2', 'c3', 'c4', 'cp1', 'cp2', 'cp3', 'cp4']\n",
        "channel_type = 'eeg'\n",
        "\n",
        "def create_mne_object(EEG, channel_names, channel_type):\n",
        "    info = mne.create_info(channel_names, Fs, ch_types = channel_type)\n",
        "    raw = mne.io.RawArray(EEG.T, info)\n",
        "    return raw\n",
        "\n",
        "raw = create_mne_object(EEG, channel_names, channel_type)"
      ],
      "execution_count": 33,
      "outputs": [
        {
          "output_type": "stream",
          "text": [
            "Creating RawArray with float64 data, n_channels=8, n_times=400000\n",
            "    Range : 0 ... 399999 =      0.000 ...  1599.996 secs\n",
            "Ready.\n"
          ],
          "name": "stdout"
        }
      ]
    },
    {
      "cell_type": "markdown",
      "metadata": {
        "id": "kRC4MEGAjv5u",
        "colab_type": "text"
      },
      "source": [
        "filtering"
      ]
    },
    {
      "cell_type": "code",
      "metadata": {
        "id": "PJdFfRkrjv5v",
        "colab_type": "code",
        "colab": {
          "base_uri": "https://localhost:8080/",
          "height": 442
        },
        "outputId": "18e5d2b6-e23c-40db-a1c6-1a92e83829cf"
      },
      "source": [
        "def filtering(raw, low_freq, high_freq):\n",
        "    # Notch filtering\n",
        "    freqs = (50, 100)\n",
        "    raw = raw.notch_filter(freqs = freqs)\n",
        "\n",
        "    # Apply band-pass filter\n",
        "    raw.filter(low_freq, high_freq, fir_design = 'firwin', skip_by_annotation = 'edge')\n",
        "    return raw\n",
        "    \n",
        "low_freq = 7.\n",
        "high_freq = 30.\n",
        "filtered = filtering(raw, low_freq, high_freq)"
      ],
      "execution_count": 34,
      "outputs": [
        {
          "output_type": "stream",
          "text": [
            "Setting up band-stop filter\n",
            "\n",
            "FIR filter parameters\n",
            "---------------------\n",
            "Designing a one-pass, zero-phase, non-causal bandstop filter:\n",
            "- Windowed time-domain design (firwin) method\n",
            "- Hamming window with 0.0194 passband ripple and 53 dB stopband attenuation\n",
            "- Lower transition bandwidth: 0.50 Hz\n",
            "- Upper transition bandwidth: 0.50 Hz\n",
            "- Filter length: 1651 samples (6.604 sec)\n",
            "\n",
            "Filtering raw data in 1 contiguous segment\n",
            "Setting up band-pass filter from 7 - 30 Hz\n",
            "\n",
            "FIR filter parameters\n",
            "---------------------\n",
            "Designing a one-pass, zero-phase, non-causal bandpass filter:\n",
            "- Windowed time-domain design (firwin) method\n",
            "- Hamming window with 0.0194 passband ripple and 53 dB stopband attenuation\n",
            "- Lower passband edge: 7.00\n",
            "- Lower transition bandwidth: 2.00 Hz (-6 dB cutoff frequency: 6.00 Hz)\n",
            "- Upper passband edge: 30.00 Hz\n",
            "- Upper transition bandwidth: 7.50 Hz (-6 dB cutoff frequency: 33.75 Hz)\n",
            "- Filter length: 413 samples (1.652 sec)\n",
            "\n"
          ],
          "name": "stdout"
        }
      ]
    },
    {
      "cell_type": "markdown",
      "metadata": {
        "id": "BbJIlmH_jv54",
        "colab_type": "text"
      },
      "source": [
        "Epoching the data"
      ]
    },
    {
      "cell_type": "code",
      "metadata": {
        "id": "SqdF78yBjv54",
        "colab_type": "code",
        "colab": {
          "base_uri": "https://localhost:8080/",
          "height": 136
        },
        "outputId": "fdc5cce8-b950-4048-d920-5608e7f27698"
      },
      "source": [
        "def Epoch_Setup(events, IM_dur, step, last_start_of_epoch): \n",
        "  IM_dur = int(IM_dur * Fs)\n",
        "  step = int(step * IM_dur)\n",
        "  last_start_of_epoch = int(last_start_of_epoch * IM_dur)\n",
        "  steps_sum = int(last_start_of_epoch / step)\n",
        "  new_events = [[],[],[]]\n",
        "\n",
        "  for index in events:\n",
        "    new_events[0].extend(np.arange(index[0], index[0] + last_start_of_epoch, step))\n",
        "    new_events[1].extend([0] * steps_sum) \n",
        "    new_events[2].extend([index[-1]] * steps_sum) \n",
        "  new_events = np.array(new_events).T\n",
        "  return new_events\n",
        "\n",
        "def Epochs(data, events, tmin, tmax):\n",
        "  epochs = mne.Epochs(data, events=events, tmin=tmin, tmax=tmax, preload=True, baseline=None, proj=True)\n",
        "  epoched_data = epochs.get_data()\n",
        "  labels = epochs.events[:, -1] - 1\n",
        "  return epoched_data, labels\n",
        "\n",
        "IM_dur = 4 \n",
        "step = 1/40\n",
        "last_start_of_epoch = 0.5\n",
        "\n",
        "tmix = -1\n",
        "tmax = 2\n",
        "\n",
        "new_events = Epoch_Setup(events, IM_dur, step, last_start_of_epoch)\n",
        "epoched_data, labels = Epochs(filtered, new_events, tmix, tmax)"
      ],
      "execution_count": 35,
      "outputs": [
        {
          "output_type": "stream",
          "text": [
            "Not setting metadata\n",
            "Not setting metadata\n",
            "4000 matching events found\n",
            "No baseline correction applied\n",
            "0 projection items activated\n",
            "Loading data for 4000 events and 751 original time points ...\n",
            "0 bad epochs dropped\n"
          ],
          "name": "stdout"
        }
      ]
    },
    {
      "cell_type": "markdown",
      "metadata": {
        "id": "lpUY1255PSal",
        "colab_type": "text"
      },
      "source": [
        "Split training and testing data"
      ]
    },
    {
      "cell_type": "code",
      "metadata": {
        "id": "Uhyqf_1_PYY2",
        "colab_type": "code",
        "colab": {}
      },
      "source": [
        "def data_split(data, labels, split):\n",
        "  split = int(split * data.shape[0])\n",
        "  X_train = epoched_data[:split]\n",
        "  X_test = epoched_data[split:]\n",
        "  Y_train = labels[:split]\n",
        "  Y_test = labels[split:]\n",
        "  return X_train, X_test, Y_train, Y_test\n",
        "\n",
        "split = 0.5\n",
        "X_train, X_test, Y_train, Y_test = data_split(epoched_data, labels, split)"
      ],
      "execution_count": 36,
      "outputs": []
    },
    {
      "cell_type": "markdown",
      "metadata": {
        "id": "f4bPEv2tjv51",
        "colab_type": "text"
      },
      "source": [
        "CSP fit and transform function"
      ]
    },
    {
      "cell_type": "code",
      "metadata": {
        "id": "SLB2-4o7jv51",
        "colab_type": "code",
        "colab": {
          "base_uri": "https://localhost:8080/",
          "height": 255
        },
        "outputId": "36886636-3401-4d18-9197-7efe198a6811"
      },
      "source": [
        "def csp_fit_transform(X_train, labels, X_test):\n",
        "  csp = mne.decoding.CSP(n_components=8, reg='oas', log = True, norm_trace=True)\n",
        "  X_train = csp.fit_transform(X_train, labels)\n",
        "  X_test = csp.transform(X_test)\n",
        "  return (X_train, X_test)\n",
        "\n",
        "X_train, X_test = csp_fit_transform(X_train, Y_train, X_test)\n"
      ],
      "execution_count": 37,
      "outputs": [
        {
          "output_type": "stream",
          "text": [
            "Computing rank from data with rank=None\n",
            "    Using tolerance 0.044 (2.2e-16 eps * 8 dim * 2.5e+13  max singular value)\n",
            "    Estimated rank (mag): 8\n",
            "    MAG: rank 8 computed from 8 data channels with 0 projectors\n",
            "Reducing data rank from 8 -> 8\n",
            "Estimating covariance using OAS\n",
            "Done.\n",
            "Computing rank from data with rank=None\n",
            "    Using tolerance 0.035 (2.2e-16 eps * 8 dim * 2e+13  max singular value)\n",
            "    Estimated rank (mag): 8\n",
            "    MAG: rank 8 computed from 8 data channels with 0 projectors\n",
            "Reducing data rank from 8 -> 8\n",
            "Estimating covariance using OAS\n",
            "Done.\n"
          ],
          "name": "stdout"
        }
      ]
    },
    {
      "cell_type": "markdown",
      "metadata": {
        "id": "zgjbH_kIjv57",
        "colab_type": "text"
      },
      "source": [
        "Create tensorflow model"
      ]
    },
    {
      "cell_type": "code",
      "metadata": {
        "id": "Bq3p6F5ljv58",
        "colab_type": "code",
        "colab": {
          "base_uri": "https://localhost:8080/",
          "height": 357
        },
        "outputId": "ea8ade31-01d4-45d9-b32c-8144ec88369e"
      },
      "source": [
        "#compare tensorflow and sklearn pipelines, check out idea for sklearn pipeline and tensorflow model inside\n",
        "\n",
        "model = tf.keras.Sequential([\n",
        "    tf.keras.layers.LSTM(128,  input_shape = [20,8], return_sequences = True),\n",
        "    tf.keras.layers.LSTM(256),\n",
        "    tf.keras.layers.Dropout(0.2),\n",
        "    tf.keras.layers.Dense(64, activation = 'relu'),\n",
        "    tf.keras.layers.Dense(64, activation = 'relu'),\n",
        "    tf.keras.layers.Dense(1, activation = 'sigmoid')        \n",
        "])\n",
        "model.compile(loss='binary_crossentropy',optimizer=tf.keras.optimizers.Adam(lr = 0.0001),metrics=['accuracy'])\n",
        "model.summary()\n"
      ],
      "execution_count": 38,
      "outputs": [
        {
          "output_type": "stream",
          "text": [
            "Model: \"sequential_2\"\n",
            "_________________________________________________________________\n",
            "Layer (type)                 Output Shape              Param #   \n",
            "=================================================================\n",
            "lstm_4 (LSTM)                (None, 20, 128)           70144     \n",
            "_________________________________________________________________\n",
            "lstm_5 (LSTM)                (None, 256)               394240    \n",
            "_________________________________________________________________\n",
            "dropout_2 (Dropout)          (None, 256)               0         \n",
            "_________________________________________________________________\n",
            "dense_6 (Dense)              (None, 64)                16448     \n",
            "_________________________________________________________________\n",
            "dense_7 (Dense)              (None, 64)                4160      \n",
            "_________________________________________________________________\n",
            "dense_8 (Dense)              (None, 1)                 65        \n",
            "=================================================================\n",
            "Total params: 485,057\n",
            "Trainable params: 485,057\n",
            "Non-trainable params: 0\n",
            "_________________________________________________________________\n"
          ],
          "name": "stdout"
        }
      ]
    },
    {
      "cell_type": "markdown",
      "metadata": {
        "id": "6UHM0hJoNOY3",
        "colab_type": "text"
      },
      "source": [
        "Data reshape for Tensorflow model"
      ]
    },
    {
      "cell_type": "code",
      "metadata": {
        "id": "B7EuIgpDjv5-",
        "colab_type": "code",
        "colab": {}
      },
      "source": [
        "def reshape_data(X_train, X_test, labels, reshape_factor):\n",
        "  X_train = np.reshape(X_train, (int(X_train.shape[0]/reshape_factor),reshape_factor,8))\n",
        "  X_test = np.reshape(X_test, (int(X_test.shape[0]/reshape_factor),reshape_factor,8))\n",
        "  Y_train = LABELS[:X_train.shape[0]] - 1\n",
        "  Y_test = LABELS[X_train.shape[0]:] - 1\n",
        "  return X_train, X_test, Y_train, Y_test\n",
        "\n",
        "reshape_factor = 20\n",
        "X_train, X_test, Y_train, Y_test = reshape_data(X_train, X_test, labels, reshape_factor)  "
      ],
      "execution_count": 39,
      "outputs": []
    },
    {
      "cell_type": "markdown",
      "metadata": {
        "id": "QMYPMRkrYZaP",
        "colab_type": "text"
      },
      "source": [
        "Model fit"
      ]
    },
    {
      "cell_type": "code",
      "metadata": {
        "id": "s0Gbf_CYYb_4",
        "colab_type": "code",
        "colab": {
          "base_uri": "https://localhost:8080/",
          "height": 1000
        },
        "outputId": "2bf275db-f03e-457f-e058-45242d2efd9c"
      },
      "source": [
        "model.fit(X_train, Y_train, epochs= 100, batch_size = 4, validation_data=(X_test, Y_test), verbose=1)"
      ],
      "execution_count": 30,
      "outputs": [
        {
          "output_type": "stream",
          "text": [
            "Epoch 1/100\n",
            "25/25 [==============================] - 1s 32ms/step - loss: 0.6875 - accuracy: 0.5400 - val_loss: 0.6735 - val_accuracy: 0.8300\n",
            "Epoch 2/100\n",
            "25/25 [==============================] - 0s 8ms/step - loss: 0.6695 - accuracy: 0.6600 - val_loss: 0.6407 - val_accuracy: 0.7800\n",
            "Epoch 3/100\n",
            "25/25 [==============================] - 0s 8ms/step - loss: 0.6231 - accuracy: 0.7700 - val_loss: 0.5890 - val_accuracy: 0.6900\n",
            "Epoch 4/100\n",
            "25/25 [==============================] - 0s 8ms/step - loss: 0.5057 - accuracy: 0.9000 - val_loss: 0.4093 - val_accuracy: 0.8800\n",
            "Epoch 5/100\n",
            "25/25 [==============================] - 0s 8ms/step - loss: 0.3791 - accuracy: 0.8700 - val_loss: 0.4930 - val_accuracy: 0.7400\n",
            "Epoch 6/100\n",
            "25/25 [==============================] - 0s 8ms/step - loss: 0.3703 - accuracy: 0.8500 - val_loss: 0.3479 - val_accuracy: 0.8600\n",
            "Epoch 7/100\n",
            "25/25 [==============================] - 0s 8ms/step - loss: 0.3073 - accuracy: 0.8700 - val_loss: 0.4394 - val_accuracy: 0.7600\n",
            "Epoch 8/100\n",
            "25/25 [==============================] - 0s 8ms/step - loss: 0.2935 - accuracy: 0.9100 - val_loss: 0.2717 - val_accuracy: 0.8800\n",
            "Epoch 9/100\n",
            "25/25 [==============================] - 0s 8ms/step - loss: 0.2654 - accuracy: 0.8600 - val_loss: 0.2558 - val_accuracy: 0.9300\n",
            "Epoch 10/100\n",
            "25/25 [==============================] - 0s 8ms/step - loss: 0.2258 - accuracy: 0.9000 - val_loss: 0.2922 - val_accuracy: 0.9000\n",
            "Epoch 11/100\n",
            "25/25 [==============================] - 0s 8ms/step - loss: 0.2216 - accuracy: 0.9000 - val_loss: 0.4889 - val_accuracy: 0.7500\n",
            "Epoch 12/100\n",
            "25/25 [==============================] - 0s 7ms/step - loss: 0.2887 - accuracy: 0.8900 - val_loss: 0.2370 - val_accuracy: 0.9300\n",
            "Epoch 13/100\n",
            "25/25 [==============================] - 0s 8ms/step - loss: 0.1823 - accuracy: 0.9300 - val_loss: 0.2176 - val_accuracy: 0.9300\n",
            "Epoch 14/100\n",
            "25/25 [==============================] - 0s 7ms/step - loss: 0.1833 - accuracy: 0.9400 - val_loss: 0.2662 - val_accuracy: 0.9000\n",
            "Epoch 15/100\n",
            "25/25 [==============================] - 0s 8ms/step - loss: 0.1698 - accuracy: 0.9400 - val_loss: 0.2226 - val_accuracy: 0.9300\n",
            "Epoch 16/100\n",
            "25/25 [==============================] - 0s 8ms/step - loss: 0.1472 - accuracy: 0.9200 - val_loss: 0.2877 - val_accuracy: 0.8900\n",
            "Epoch 17/100\n",
            "25/25 [==============================] - 0s 7ms/step - loss: 0.1732 - accuracy: 0.9500 - val_loss: 0.2279 - val_accuracy: 0.9000\n",
            "Epoch 18/100\n",
            "25/25 [==============================] - 0s 8ms/step - loss: 0.1719 - accuracy: 0.9300 - val_loss: 0.2453 - val_accuracy: 0.9000\n",
            "Epoch 19/100\n",
            "25/25 [==============================] - 0s 8ms/step - loss: 0.1554 - accuracy: 0.9300 - val_loss: 0.1985 - val_accuracy: 0.9300\n",
            "Epoch 20/100\n",
            "25/25 [==============================] - 0s 8ms/step - loss: 0.1772 - accuracy: 0.9200 - val_loss: 0.2240 - val_accuracy: 0.9100\n",
            "Epoch 21/100\n",
            "25/25 [==============================] - 0s 8ms/step - loss: 0.1600 - accuracy: 0.9500 - val_loss: 0.1795 - val_accuracy: 0.9300\n",
            "Epoch 22/100\n",
            "25/25 [==============================] - 0s 8ms/step - loss: 0.1468 - accuracy: 0.9500 - val_loss: 0.2005 - val_accuracy: 0.9400\n",
            "Epoch 23/100\n",
            "25/25 [==============================] - 0s 8ms/step - loss: 0.1611 - accuracy: 0.9300 - val_loss: 0.2372 - val_accuracy: 0.9100\n",
            "Epoch 24/100\n",
            "25/25 [==============================] - 0s 9ms/step - loss: 0.1544 - accuracy: 0.9300 - val_loss: 0.2148 - val_accuracy: 0.9100\n",
            "Epoch 25/100\n",
            "25/25 [==============================] - 0s 9ms/step - loss: 0.1242 - accuracy: 0.9700 - val_loss: 0.1758 - val_accuracy: 0.9400\n",
            "Epoch 26/100\n",
            "25/25 [==============================] - 0s 8ms/step - loss: 0.1421 - accuracy: 0.9500 - val_loss: 0.1937 - val_accuracy: 0.9400\n",
            "Epoch 27/100\n",
            "25/25 [==============================] - 0s 8ms/step - loss: 0.1609 - accuracy: 0.9600 - val_loss: 0.1697 - val_accuracy: 0.9500\n",
            "Epoch 28/100\n",
            "25/25 [==============================] - 0s 8ms/step - loss: 0.1348 - accuracy: 0.9400 - val_loss: 0.2708 - val_accuracy: 0.8700\n",
            "Epoch 29/100\n",
            "25/25 [==============================] - 0s 8ms/step - loss: 0.1820 - accuracy: 0.9500 - val_loss: 0.1860 - val_accuracy: 0.9500\n",
            "Epoch 30/100\n",
            "25/25 [==============================] - 0s 8ms/step - loss: 0.1215 - accuracy: 0.9500 - val_loss: 0.1758 - val_accuracy: 0.9500\n",
            "Epoch 31/100\n",
            "25/25 [==============================] - 0s 8ms/step - loss: 0.1158 - accuracy: 0.9700 - val_loss: 0.1921 - val_accuracy: 0.9100\n",
            "Epoch 32/100\n",
            "25/25 [==============================] - 0s 8ms/step - loss: 0.1330 - accuracy: 0.9500 - val_loss: 0.1692 - val_accuracy: 0.9500\n",
            "Epoch 33/100\n",
            "25/25 [==============================] - 0s 8ms/step - loss: 0.1104 - accuracy: 0.9700 - val_loss: 0.2027 - val_accuracy: 0.9000\n",
            "Epoch 34/100\n",
            "25/25 [==============================] - 0s 8ms/step - loss: 0.1398 - accuracy: 0.9600 - val_loss: 0.1662 - val_accuracy: 0.9500\n",
            "Epoch 35/100\n",
            "25/25 [==============================] - 0s 8ms/step - loss: 0.1245 - accuracy: 0.9500 - val_loss: 0.1816 - val_accuracy: 0.9200\n",
            "Epoch 36/100\n",
            "25/25 [==============================] - 0s 8ms/step - loss: 0.0962 - accuracy: 0.9700 - val_loss: 0.1605 - val_accuracy: 0.9600\n",
            "Epoch 37/100\n",
            "25/25 [==============================] - 0s 9ms/step - loss: 0.1351 - accuracy: 0.9600 - val_loss: 0.1600 - val_accuracy: 0.9400\n",
            "Epoch 38/100\n",
            "25/25 [==============================] - 0s 8ms/step - loss: 0.1464 - accuracy: 0.9500 - val_loss: 0.1810 - val_accuracy: 0.9200\n",
            "Epoch 39/100\n",
            "25/25 [==============================] - 0s 8ms/step - loss: 0.0996 - accuracy: 0.9700 - val_loss: 0.2327 - val_accuracy: 0.8900\n",
            "Epoch 40/100\n",
            "25/25 [==============================] - 0s 9ms/step - loss: 0.1169 - accuracy: 0.9600 - val_loss: 0.1786 - val_accuracy: 0.9200\n",
            "Epoch 41/100\n",
            "25/25 [==============================] - 0s 8ms/step - loss: 0.1177 - accuracy: 0.9600 - val_loss: 0.2570 - val_accuracy: 0.8800\n",
            "Epoch 42/100\n",
            "25/25 [==============================] - 0s 9ms/step - loss: 0.1447 - accuracy: 0.9300 - val_loss: 0.1664 - val_accuracy: 0.9500\n",
            "Epoch 43/100\n",
            "25/25 [==============================] - 0s 8ms/step - loss: 0.1023 - accuracy: 0.9600 - val_loss: 0.1551 - val_accuracy: 0.9600\n",
            "Epoch 44/100\n",
            "25/25 [==============================] - 0s 8ms/step - loss: 0.1392 - accuracy: 0.9500 - val_loss: 0.1622 - val_accuracy: 0.9500\n",
            "Epoch 45/100\n",
            "25/25 [==============================] - 0s 8ms/step - loss: 0.1135 - accuracy: 0.9700 - val_loss: 0.1764 - val_accuracy: 0.9200\n",
            "Epoch 46/100\n",
            "25/25 [==============================] - 0s 8ms/step - loss: 0.1595 - accuracy: 0.9400 - val_loss: 0.2149 - val_accuracy: 0.8900\n",
            "Epoch 47/100\n",
            "25/25 [==============================] - 0s 8ms/step - loss: 0.1463 - accuracy: 0.9400 - val_loss: 0.1690 - val_accuracy: 0.9200\n",
            "Epoch 48/100\n",
            "25/25 [==============================] - 0s 8ms/step - loss: 0.1113 - accuracy: 0.9600 - val_loss: 0.1612 - val_accuracy: 0.9400\n",
            "Epoch 49/100\n",
            "25/25 [==============================] - 0s 8ms/step - loss: 0.0940 - accuracy: 0.9600 - val_loss: 0.2266 - val_accuracy: 0.8900\n",
            "Epoch 50/100\n",
            "25/25 [==============================] - 0s 8ms/step - loss: 0.0949 - accuracy: 0.9800 - val_loss: 0.1945 - val_accuracy: 0.9000\n",
            "Epoch 51/100\n",
            "25/25 [==============================] - 0s 8ms/step - loss: 0.1102 - accuracy: 0.9500 - val_loss: 0.2475 - val_accuracy: 0.9000\n",
            "Epoch 52/100\n",
            "25/25 [==============================] - 0s 8ms/step - loss: 0.1266 - accuracy: 0.9500 - val_loss: 0.1629 - val_accuracy: 0.9300\n",
            "Epoch 53/100\n",
            "25/25 [==============================] - 0s 8ms/step - loss: 0.1518 - accuracy: 0.9600 - val_loss: 0.3273 - val_accuracy: 0.8800\n",
            "Epoch 54/100\n",
            "25/25 [==============================] - 0s 8ms/step - loss: 0.1333 - accuracy: 0.9500 - val_loss: 0.1651 - val_accuracy: 0.9400\n",
            "Epoch 55/100\n",
            "25/25 [==============================] - 0s 8ms/step - loss: 0.1014 - accuracy: 0.9600 - val_loss: 0.1826 - val_accuracy: 0.9200\n",
            "Epoch 56/100\n",
            "25/25 [==============================] - 0s 8ms/step - loss: 0.0884 - accuracy: 0.9600 - val_loss: 0.1540 - val_accuracy: 0.9600\n",
            "Epoch 57/100\n",
            "25/25 [==============================] - 0s 8ms/step - loss: 0.0902 - accuracy: 0.9600 - val_loss: 0.1569 - val_accuracy: 0.9500\n",
            "Epoch 58/100\n",
            "25/25 [==============================] - 0s 8ms/step - loss: 0.1182 - accuracy: 0.9400 - val_loss: 0.2224 - val_accuracy: 0.8900\n",
            "Epoch 59/100\n",
            "25/25 [==============================] - 0s 8ms/step - loss: 0.1180 - accuracy: 0.9700 - val_loss: 0.2113 - val_accuracy: 0.9000\n",
            "Epoch 60/100\n",
            "25/25 [==============================] - 0s 8ms/step - loss: 0.0998 - accuracy: 0.9700 - val_loss: 0.1514 - val_accuracy: 0.9500\n",
            "Epoch 61/100\n",
            "25/25 [==============================] - 0s 9ms/step - loss: 0.0963 - accuracy: 0.9600 - val_loss: 0.1527 - val_accuracy: 0.9400\n",
            "Epoch 62/100\n",
            "25/25 [==============================] - 0s 8ms/step - loss: 0.0908 - accuracy: 0.9600 - val_loss: 0.1534 - val_accuracy: 0.9400\n",
            "Epoch 63/100\n",
            "25/25 [==============================] - 0s 8ms/step - loss: 0.1030 - accuracy: 0.9700 - val_loss: 0.1502 - val_accuracy: 0.9500\n",
            "Epoch 64/100\n",
            "25/25 [==============================] - 0s 8ms/step - loss: 0.1223 - accuracy: 0.9500 - val_loss: 0.1589 - val_accuracy: 0.9500\n",
            "Epoch 65/100\n",
            "25/25 [==============================] - 0s 8ms/step - loss: 0.0944 - accuracy: 0.9700 - val_loss: 0.1482 - val_accuracy: 0.9600\n",
            "Epoch 66/100\n",
            "25/25 [==============================] - 0s 8ms/step - loss: 0.1072 - accuracy: 0.9600 - val_loss: 0.1667 - val_accuracy: 0.9400\n",
            "Epoch 67/100\n",
            "25/25 [==============================] - 0s 8ms/step - loss: 0.1046 - accuracy: 0.9500 - val_loss: 0.1496 - val_accuracy: 0.9500\n",
            "Epoch 68/100\n",
            "25/25 [==============================] - 0s 9ms/step - loss: 0.1124 - accuracy: 0.9600 - val_loss: 0.1720 - val_accuracy: 0.9400\n",
            "Epoch 69/100\n",
            "25/25 [==============================] - 0s 8ms/step - loss: 0.0738 - accuracy: 0.9700 - val_loss: 0.1635 - val_accuracy: 0.9500\n",
            "Epoch 70/100\n",
            "25/25 [==============================] - 0s 8ms/step - loss: 0.0735 - accuracy: 0.9600 - val_loss: 0.1708 - val_accuracy: 0.9500\n",
            "Epoch 71/100\n",
            "25/25 [==============================] - 0s 9ms/step - loss: 0.0597 - accuracy: 0.9600 - val_loss: 0.3087 - val_accuracy: 0.8700\n",
            "Epoch 72/100\n",
            "25/25 [==============================] - 0s 8ms/step - loss: 0.2428 - accuracy: 0.9000 - val_loss: 0.2130 - val_accuracy: 0.8900\n",
            "Epoch 73/100\n",
            "25/25 [==============================] - 0s 8ms/step - loss: 0.0827 - accuracy: 0.9800 - val_loss: 0.1501 - val_accuracy: 0.9500\n",
            "Epoch 74/100\n",
            "25/25 [==============================] - 0s 8ms/step - loss: 0.1055 - accuracy: 0.9600 - val_loss: 0.1827 - val_accuracy: 0.9300\n",
            "Epoch 75/100\n",
            "25/25 [==============================] - 0s 8ms/step - loss: 0.0983 - accuracy: 0.9700 - val_loss: 0.1454 - val_accuracy: 0.9600\n",
            "Epoch 76/100\n",
            "25/25 [==============================] - 0s 8ms/step - loss: 0.1082 - accuracy: 0.9500 - val_loss: 0.2596 - val_accuracy: 0.8900\n",
            "Epoch 77/100\n",
            "25/25 [==============================] - 0s 8ms/step - loss: 0.0767 - accuracy: 0.9700 - val_loss: 0.1626 - val_accuracy: 0.9300\n",
            "Epoch 78/100\n",
            "25/25 [==============================] - 0s 8ms/step - loss: 0.1126 - accuracy: 0.9500 - val_loss: 0.1892 - val_accuracy: 0.9300\n",
            "Epoch 79/100\n",
            "25/25 [==============================] - 0s 7ms/step - loss: 0.0890 - accuracy: 0.9700 - val_loss: 0.2260 - val_accuracy: 0.8900\n",
            "Epoch 80/100\n",
            "25/25 [==============================] - 0s 8ms/step - loss: 0.1022 - accuracy: 0.9600 - val_loss: 0.2662 - val_accuracy: 0.8700\n",
            "Epoch 81/100\n",
            "25/25 [==============================] - 0s 8ms/step - loss: 0.1143 - accuracy: 0.9600 - val_loss: 0.1687 - val_accuracy: 0.9400\n",
            "Epoch 82/100\n",
            "25/25 [==============================] - 0s 8ms/step - loss: 0.0797 - accuracy: 0.9800 - val_loss: 0.1554 - val_accuracy: 0.9300\n",
            "Epoch 83/100\n",
            "25/25 [==============================] - 0s 8ms/step - loss: 0.0786 - accuracy: 0.9800 - val_loss: 0.1547 - val_accuracy: 0.9400\n",
            "Epoch 84/100\n",
            "25/25 [==============================] - 0s 7ms/step - loss: 0.1057 - accuracy: 0.9600 - val_loss: 0.1685 - val_accuracy: 0.9400\n",
            "Epoch 85/100\n",
            "25/25 [==============================] - 0s 8ms/step - loss: 0.1092 - accuracy: 0.9700 - val_loss: 0.1627 - val_accuracy: 0.9300\n",
            "Epoch 86/100\n",
            "25/25 [==============================] - 0s 8ms/step - loss: 0.0976 - accuracy: 0.9700 - val_loss: 0.1506 - val_accuracy: 0.9600\n",
            "Epoch 87/100\n",
            "25/25 [==============================] - 0s 8ms/step - loss: 0.0685 - accuracy: 0.9900 - val_loss: 0.2607 - val_accuracy: 0.8700\n",
            "Epoch 88/100\n",
            "25/25 [==============================] - 0s 8ms/step - loss: 0.1037 - accuracy: 0.9600 - val_loss: 0.2084 - val_accuracy: 0.9000\n",
            "Epoch 89/100\n",
            "25/25 [==============================] - 0s 8ms/step - loss: 0.0905 - accuracy: 0.9600 - val_loss: 0.2791 - val_accuracy: 0.8600\n",
            "Epoch 90/100\n",
            "25/25 [==============================] - 0s 8ms/step - loss: 0.0923 - accuracy: 0.9700 - val_loss: 0.2062 - val_accuracy: 0.9000\n",
            "Epoch 91/100\n",
            "25/25 [==============================] - 0s 7ms/step - loss: 0.0620 - accuracy: 0.9800 - val_loss: 0.2898 - val_accuracy: 0.8500\n",
            "Epoch 92/100\n",
            "25/25 [==============================] - 0s 8ms/step - loss: 0.1260 - accuracy: 0.9400 - val_loss: 0.1646 - val_accuracy: 0.9400\n",
            "Epoch 93/100\n",
            "25/25 [==============================] - 0s 8ms/step - loss: 0.0933 - accuracy: 0.9600 - val_loss: 0.1963 - val_accuracy: 0.9200\n",
            "Epoch 94/100\n",
            "25/25 [==============================] - 0s 8ms/step - loss: 0.0628 - accuracy: 0.9700 - val_loss: 0.1557 - val_accuracy: 0.9500\n",
            "Epoch 95/100\n",
            "25/25 [==============================] - 0s 8ms/step - loss: 0.0774 - accuracy: 0.9700 - val_loss: 0.1739 - val_accuracy: 0.9400\n",
            "Epoch 96/100\n",
            "25/25 [==============================] - 0s 8ms/step - loss: 0.0751 - accuracy: 0.9600 - val_loss: 0.1477 - val_accuracy: 0.9500\n",
            "Epoch 97/100\n",
            "25/25 [==============================] - 0s 8ms/step - loss: 0.0860 - accuracy: 0.9700 - val_loss: 0.1618 - val_accuracy: 0.9500\n",
            "Epoch 98/100\n",
            "25/25 [==============================] - 0s 8ms/step - loss: 0.0684 - accuracy: 0.9700 - val_loss: 0.1693 - val_accuracy: 0.9400\n",
            "Epoch 99/100\n",
            "25/25 [==============================] - 0s 8ms/step - loss: 0.0633 - accuracy: 0.9700 - val_loss: 0.1768 - val_accuracy: 0.9200\n",
            "Epoch 100/100\n",
            "25/25 [==============================] - 0s 8ms/step - loss: 0.1295 - accuracy: 0.9500 - val_loss: 0.1536 - val_accuracy: 0.9400\n"
          ],
          "name": "stdout"
        },
        {
          "output_type": "execute_result",
          "data": {
            "text/plain": [
              "<tensorflow.python.keras.callbacks.History at 0x7f7c5e05a588>"
            ]
          },
          "metadata": {
            "tags": []
          },
          "execution_count": 30
        }
      ]
    }
  ]
}